{
 "cells": [
  {
   "cell_type": "markdown",
   "id": "a96e1d7b",
   "metadata": {
    "execution": {
     "iopub.execute_input": "2023-06-12T12:09:47.331329Z",
     "iopub.status.busy": "2023-06-12T12:09:47.330924Z",
     "iopub.status.idle": "2023-06-12T12:09:47.378742Z",
     "shell.execute_reply": "2023-06-12T12:09:47.376876Z",
     "shell.execute_reply.started": "2023-06-12T12:09:47.331297Z"
    },
    "papermill": {
     "duration": 0.016147,
     "end_time": "2023-07-28T06:08:56.728053",
     "exception": false,
     "start_time": "2023-07-28T06:08:56.711906",
     "status": "completed"
    },
    "tags": []
   },
   "source": [
    "##### Notebook 2: Model Training\n",
    "\n",
    "Welcome to Notebook 2 of this recommendation system project!\n",
    "\n",
    "In Notebook 1, we performed exploratory data analysis (EDA), and visualized various aspects of the data to gain insights into our anime recommendation problem.\n",
    "\n",
    "In this notebook, we will focus on training the recommendation model. By separating the model training into a separate notebook, we ensure better memory management and organization of the project.\n",
    "\n",
    "Let's dive in!\n",
    "\n",
    "Note: If you haven't gone through Notebook 1 yet, I highly recommend you do so to understand the data and insights gained before moving on to the model training phase.\n",
    "\n",
    "[Click here to access Notebook 1: Exploratory Data Analysis and Dataset Preparation](https://www.kaggle.com/code/dbdmobile/anime-recommendation-1)"
   ]
  },
  {
   "cell_type": "code",
   "execution_count": 1,
   "id": "aa28d022",
   "metadata": {
    "execution": {
     "iopub.execute_input": "2023-07-28T06:08:56.758012Z",
     "iopub.status.busy": "2023-07-28T06:08:56.757649Z",
     "iopub.status.idle": "2023-07-28T06:09:02.632158Z",
     "shell.execute_reply": "2023-07-28T06:09:02.631033Z"
    },
    "papermill": {
     "duration": 5.892295,
     "end_time": "2023-07-28T06:09:02.634794",
     "exception": false,
     "start_time": "2023-07-28T06:08:56.742499",
     "status": "completed"
    },
    "tags": []
   },
   "outputs": [
    {
     "name": "stdout",
     "output_type": "stream",
     "text": [
      "\u001b[33mWARNING: Running pip as the 'root' user can result in broken permissions and conflicting behaviour with the system package manager. It is recommended to use a virtual environment instead: https://pip.pypa.io/warnings/venv\u001b[0m\u001b[33m\r\n",
      "\u001b[0m\u001b[33mWARNING: You are using pip version 22.0.4; however, version 23.2.1 is available.\r\n",
      "You should consider upgrading via the '/usr/local/bin/python -m pip install --upgrade pip' command.\u001b[0m\u001b[33m\r\n",
      "\u001b[0m"
     ]
    }
   ],
   "source": [
    "!pip install wordcloud -q"
   ]
  },
  {
   "cell_type": "code",
   "execution_count": 2,
   "id": "944350fa",
   "metadata": {
    "_cell_guid": "b1076dfc-b9ad-4769-8c92-a6c4dae69d19",
    "_uuid": "8f2839f25d086af736a60e9eeb907d3b93b6e0e5",
    "execution": {
     "iopub.execute_input": "2023-07-28T06:09:02.663723Z",
     "iopub.status.busy": "2023-07-28T06:09:02.663428Z",
     "iopub.status.idle": "2023-07-28T06:09:46.599778Z",
     "shell.execute_reply": "2023-07-28T06:09:46.598777Z"
    },
    "papermill": {
     "duration": 43.953781,
     "end_time": "2023-07-28T06:09:46.602406",
     "exception": false,
     "start_time": "2023-07-28T06:09:02.648625",
     "status": "completed"
    },
    "tags": []
   },
   "outputs": [
    {
     "name": "stderr",
     "output_type": "stream",
     "text": [
      "D0728 06:09:38.754221925      14 config.cc:119]                        gRPC EXPERIMENT tcp_frame_size_tuning               OFF (default:OFF)\n",
      "D0728 06:09:38.754246530      14 config.cc:119]                        gRPC EXPERIMENT tcp_rcv_lowat                       OFF (default:OFF)\n",
      "D0728 06:09:38.754250633      14 config.cc:119]                        gRPC EXPERIMENT peer_state_based_framing            OFF (default:OFF)\n",
      "D0728 06:09:38.754253928      14 config.cc:119]                        gRPC EXPERIMENT flow_control_fixes                  ON  (default:ON)\n",
      "D0728 06:09:38.754257091      14 config.cc:119]                        gRPC EXPERIMENT memory_pressure_controller          OFF (default:OFF)\n",
      "D0728 06:09:38.754260663      14 config.cc:119]                        gRPC EXPERIMENT unconstrained_max_quota_buffer_size OFF (default:OFF)\n",
      "D0728 06:09:38.754263782      14 config.cc:119]                        gRPC EXPERIMENT new_hpack_huffman_decoder           ON  (default:ON)\n",
      "D0728 06:09:38.754266745      14 config.cc:119]                        gRPC EXPERIMENT event_engine_client                 OFF (default:OFF)\n",
      "D0728 06:09:38.754269768      14 config.cc:119]                        gRPC EXPERIMENT monitoring_experiment               ON  (default:ON)\n",
      "D0728 06:09:38.754272676      14 config.cc:119]                        gRPC EXPERIMENT promise_based_client_call           OFF (default:OFF)\n",
      "D0728 06:09:38.754276464      14 config.cc:119]                        gRPC EXPERIMENT free_large_allocator                OFF (default:OFF)\n",
      "D0728 06:09:38.754279593      14 config.cc:119]                        gRPC EXPERIMENT promise_based_server_call           OFF (default:OFF)\n",
      "D0728 06:09:38.754282726      14 config.cc:119]                        gRPC EXPERIMENT transport_supplies_client_latency   OFF (default:OFF)\n",
      "D0728 06:09:38.754285836      14 config.cc:119]                        gRPC EXPERIMENT event_engine_listener               OFF (default:OFF)\n",
      "I0728 06:09:38.754490488      14 ev_epoll1_linux.cc:122]               grpc epoll fd: 59\n",
      "D0728 06:09:38.754503784      14 ev_posix.cc:144]                      Using polling engine: epoll1\n",
      "D0728 06:09:38.754524927      14 dns_resolver_ares.cc:822]             Using ares dns resolver\n",
      "D0728 06:09:38.754943242      14 lb_policy_registry.cc:46]             registering LB policy factory for \"priority_experimental\"\n",
      "D0728 06:09:38.754952104      14 lb_policy_registry.cc:46]             registering LB policy factory for \"outlier_detection_experimental\"\n",
      "D0728 06:09:38.754956042      14 lb_policy_registry.cc:46]             registering LB policy factory for \"weighted_target_experimental\"\n",
      "D0728 06:09:38.754959696      14 lb_policy_registry.cc:46]             registering LB policy factory for \"pick_first\"\n",
      "D0728 06:09:38.754963709      14 lb_policy_registry.cc:46]             registering LB policy factory for \"round_robin\"\n",
      "D0728 06:09:38.754967428      14 lb_policy_registry.cc:46]             registering LB policy factory for \"weighted_round_robin_experimental\"\n",
      "D0728 06:09:38.754974847      14 lb_policy_registry.cc:46]             registering LB policy factory for \"ring_hash_experimental\"\n",
      "D0728 06:09:38.754993549      14 lb_policy_registry.cc:46]             registering LB policy factory for \"grpclb\"\n",
      "D0728 06:09:38.755029985      14 lb_policy_registry.cc:46]             registering LB policy factory for \"rls_experimental\"\n",
      "D0728 06:09:38.755048741      14 lb_policy_registry.cc:46]             registering LB policy factory for \"xds_cluster_manager_experimental\"\n",
      "D0728 06:09:38.755053418      14 lb_policy_registry.cc:46]             registering LB policy factory for \"xds_cluster_impl_experimental\"\n",
      "D0728 06:09:38.755057366      14 lb_policy_registry.cc:46]             registering LB policy factory for \"cds_experimental\"\n",
      "D0728 06:09:38.755061343      14 lb_policy_registry.cc:46]             registering LB policy factory for \"xds_cluster_resolver_experimental\"\n",
      "D0728 06:09:38.755083900      14 lb_policy_registry.cc:46]             registering LB policy factory for \"xds_override_host_experimental\"\n",
      "D0728 06:09:38.755088642      14 lb_policy_registry.cc:46]             registering LB policy factory for \"xds_wrr_locality_experimental\"\n",
      "D0728 06:09:38.755097192      14 certificate_provider_registry.cc:35]  registering certificate provider factory for \"file_watcher\"\n",
      "I0728 06:09:38.757960882      14 socket_utils_common_posix.cc:408]     Disabling AF_INET6 sockets because ::1 is not available.\n",
      "I0728 06:09:38.776907117      14 socket_utils_common_posix.cc:337]     TCP_USER_TIMEOUT is available. TCP_USER_TIMEOUT will be used thereafter\n",
      "E0728 06:09:38.784609531      14 oauth2_credentials.cc:236]            oauth_fetch: UNKNOWN:C-ares status is not ARES_SUCCESS qtype=A name=metadata.google.internal. is_balancer=0: Domain name not found {created_time:\"2023-07-28T06:09:38.784590105+00:00\", grpc_status:2}\n"
     ]
    }
   ],
   "source": [
    "### Basic libraries\n",
    "import numpy as np\n",
    "import pandas as pd\n",
    "import matplotlib.pyplot as plt\n",
    "%matplotlib inline\n",
    "import pickle\n",
    "import warnings\n",
    "warnings.filterwarnings(action='ignore')\n",
    "\n",
    "# Data Preprocessing\n",
    "from sklearn.preprocessing import MinMaxScaler\n",
    "from sklearn.preprocessing import LabelEncoder\n",
    "\n",
    "# Model Training\n",
    "from sklearn.utils import shuffle\n",
    "from sklearn.model_selection import train_test_split\n",
    "import tensorflow as tf\n",
    "\n",
    "## Import necessary modules for collaborative filtering\n",
    "from tensorflow.keras.layers import Input, Embedding, Dot, Flatten, Dense\n",
    "from tensorflow.keras.models import Model\n",
    "from tensorflow.keras.optimizers import Adam\n",
    "from wordcloud import WordCloud\n",
    "from collections import defaultdict\n",
    "from collections import Counter\n",
    "\n",
    "## Import necessary modules for content-based filtering\n",
    "from sklearn.feature_extraction.text import TfidfVectorizer\n",
    "from sklearn.metrics.pairwise import linear_kernel"
   ]
  },
  {
   "cell_type": "code",
   "execution_count": 3,
   "id": "b1fb0487",
   "metadata": {
    "execution": {
     "iopub.execute_input": "2023-07-28T06:09:46.631500Z",
     "iopub.status.busy": "2023-07-28T06:09:46.630983Z",
     "iopub.status.idle": "2023-07-28T06:10:11.241129Z",
     "shell.execute_reply": "2023-07-28T06:10:11.240264Z"
    },
    "papermill": {
     "duration": 24.627243,
     "end_time": "2023-07-28T06:10:11.243271",
     "exception": false,
     "start_time": "2023-07-28T06:09:46.616028",
     "status": "completed"
    },
    "tags": []
   },
   "outputs": [
    {
     "name": "stdout",
     "output_type": "stream",
     "text": [
      "Shape of the Dataset: (24325191, 3)\n"
     ]
    },
    {
     "data": {
      "text/html": [
       "<div>\n",
       "<style scoped>\n",
       "    .dataframe tbody tr th:only-of-type {\n",
       "        vertical-align: middle;\n",
       "    }\n",
       "\n",
       "    .dataframe tbody tr th {\n",
       "        vertical-align: top;\n",
       "    }\n",
       "\n",
       "    .dataframe thead th {\n",
       "        text-align: right;\n",
       "    }\n",
       "</style>\n",
       "<table border=\"1\" class=\"dataframe\">\n",
       "  <thead>\n",
       "    <tr style=\"text-align: right;\">\n",
       "      <th></th>\n",
       "      <th>user_id</th>\n",
       "      <th>anime_id</th>\n",
       "      <th>rating</th>\n",
       "    </tr>\n",
       "  </thead>\n",
       "  <tbody>\n",
       "    <tr>\n",
       "      <th>0</th>\n",
       "      <td>1</td>\n",
       "      <td>21</td>\n",
       "      <td>9</td>\n",
       "    </tr>\n",
       "    <tr>\n",
       "      <th>1</th>\n",
       "      <td>1</td>\n",
       "      <td>48</td>\n",
       "      <td>7</td>\n",
       "    </tr>\n",
       "    <tr>\n",
       "      <th>2</th>\n",
       "      <td>1</td>\n",
       "      <td>320</td>\n",
       "      <td>5</td>\n",
       "    </tr>\n",
       "    <tr>\n",
       "      <th>3</th>\n",
       "      <td>1</td>\n",
       "      <td>49</td>\n",
       "      <td>8</td>\n",
       "    </tr>\n",
       "    <tr>\n",
       "      <th>4</th>\n",
       "      <td>1</td>\n",
       "      <td>304</td>\n",
       "      <td>8</td>\n",
       "    </tr>\n",
       "  </tbody>\n",
       "</table>\n",
       "</div>"
      ],
      "text/plain": [
       "   user_id  anime_id  rating\n",
       "0        1        21       9\n",
       "1        1        48       7\n",
       "2        1       320       5\n",
       "3        1        49       8\n",
       "4        1       304       8"
      ]
     },
     "execution_count": 3,
     "metadata": {},
     "output_type": "execute_result"
    }
   ],
   "source": [
    "# Load the dataset\n",
    "df=pd.read_csv('/kaggle/input/myanimelist-dataset/users-score-2023.csv', usecols=[\"user_id\",\"anime_id\",\"rating\"])\n",
    "print(\"Shape of the Dataset:\",df.shape)\n",
    "df.head()"
   ]
  },
  {
   "cell_type": "code",
   "execution_count": 4,
   "id": "b2296282",
   "metadata": {
    "execution": {
     "iopub.execute_input": "2023-07-28T06:10:11.274497Z",
     "iopub.status.busy": "2023-07-28T06:10:11.274207Z",
     "iopub.status.idle": "2023-07-28T06:10:15.851242Z",
     "shell.execute_reply": "2023-07-28T06:10:15.850368Z"
    },
    "papermill": {
     "duration": 4.594875,
     "end_time": "2023-07-28T06:10:15.853531",
     "exception": false,
     "start_time": "2023-07-28T06:10:11.258656",
     "status": "completed"
    },
    "tags": []
   },
   "outputs": [
    {
     "name": "stdout",
     "output_type": "stream",
     "text": [
      "Duplicated Rows:\n",
      "Empty DataFrame\n",
      "Columns: [user_id, anime_id, rating]\n",
      "Index: []\n"
     ]
    }
   ],
   "source": [
    "# Checking if there are any duplicate rows\n",
    "duplicated_rows = df[df.duplicated()]\n",
    "print(\"Duplicated Rows:\")\n",
    "print(duplicated_rows)"
   ]
  },
  {
   "cell_type": "code",
   "execution_count": 5,
   "id": "4d80a721",
   "metadata": {
    "execution": {
     "iopub.execute_input": "2023-07-28T06:10:15.883213Z",
     "iopub.status.busy": "2023-07-28T06:10:15.882863Z",
     "iopub.status.idle": "2023-07-28T06:10:15.912963Z",
     "shell.execute_reply": "2023-07-28T06:10:15.912105Z"
    },
    "papermill": {
     "duration": 0.047536,
     "end_time": "2023-07-28T06:10:15.915084",
     "exception": false,
     "start_time": "2023-07-28T06:10:15.867548",
     "status": "completed"
    },
    "tags": []
   },
   "outputs": [
    {
     "name": "stdout",
     "output_type": "stream",
     "text": [
      "Average Score: 7.622930072779285\n"
     ]
    }
   ],
   "source": [
    "# Calculating the average score\n",
    "avg_score = np.mean(df['rating'])\n",
    "print('Average Score:', avg_score)"
   ]
  },
  {
   "cell_type": "markdown",
   "id": "1ef072bd",
   "metadata": {
    "papermill": {
     "duration": 0.013813,
     "end_time": "2023-07-28T06:10:15.943426",
     "exception": false,
     "start_time": "2023-07-28T06:10:15.929613",
     "status": "completed"
    },
    "tags": []
   },
   "source": [
    "# Data Preprocessing"
   ]
  },
  {
   "cell_type": "code",
   "execution_count": 6,
   "id": "049d4783",
   "metadata": {
    "execution": {
     "iopub.execute_input": "2023-07-28T06:10:15.973155Z",
     "iopub.status.busy": "2023-07-28T06:10:15.972851Z",
     "iopub.status.idle": "2023-07-28T06:10:16.325781Z",
     "shell.execute_reply": "2023-07-28T06:10:16.324815Z"
    },
    "papermill": {
     "duration": 0.371296,
     "end_time": "2023-07-28T06:10:16.328520",
     "exception": false,
     "start_time": "2023-07-28T06:10:15.957224",
     "status": "completed"
    },
    "tags": []
   },
   "outputs": [],
   "source": [
    "# Scaling our \"rating\" column\n",
    "# Create a MinMaxScaler object\n",
    "scaler = MinMaxScaler(feature_range=(0, 1))\n",
    "\n",
    "# Scale the 'score' column between 0 and 1\n",
    "df['scaled_score'] = scaler.fit_transform(df[['rating']])"
   ]
  },
  {
   "cell_type": "code",
   "execution_count": 7,
   "id": "46187591",
   "metadata": {
    "execution": {
     "iopub.execute_input": "2023-07-28T06:10:16.359183Z",
     "iopub.status.busy": "2023-07-28T06:10:16.358830Z",
     "iopub.status.idle": "2023-07-28T06:10:28.696479Z",
     "shell.execute_reply": "2023-07-28T06:10:28.695403Z"
    },
    "papermill": {
     "duration": 12.355881,
     "end_time": "2023-07-28T06:10:28.698964",
     "exception": false,
     "start_time": "2023-07-28T06:10:16.343083",
     "status": "completed"
    },
    "tags": []
   },
   "outputs": [
    {
     "name": "stdout",
     "output_type": "stream",
     "text": [
      "Number of unique users: 270033, Number of unique anime: 16500\n",
      "Minimum rating: 1, Maximum rating: 10\n"
     ]
    }
   ],
   "source": [
    "# Encoding categorical data\n",
    "\n",
    "## Encoding user IDs\n",
    "user_encoder = LabelEncoder()\n",
    "df[\"user_encoded\"] = user_encoder.fit_transform(df[\"user_id\"])\n",
    "num_users = len(user_encoder.classes_)\n",
    "\n",
    "## Encoding anime IDs\n",
    "anime_encoder = LabelEncoder()\n",
    "df[\"anime_encoded\"] = anime_encoder.fit_transform(df[\"anime_id\"])\n",
    "num_animes = len(anime_encoder.classes_)\n",
    "\n",
    "# Printing dataset information\n",
    "print(\"Number of unique users: {}, Number of unique anime: {}\".format(num_users, num_animes))\n",
    "print(\"Minimum rating: {}, Maximum rating: {}\".format(min(df['rating']), max(df['rating'])))"
   ]
  },
  {
   "cell_type": "markdown",
   "id": "1bb17f4e",
   "metadata": {
    "papermill": {
     "duration": 0.016828,
     "end_time": "2023-07-28T06:10:28.732128",
     "exception": false,
     "start_time": "2023-07-28T06:10:28.715300",
     "status": "completed"
    },
    "tags": []
   },
   "source": [
    "# Model training (collaborative filtering)"
   ]
  },
  {
   "cell_type": "code",
   "execution_count": 8,
   "id": "55585222",
   "metadata": {
    "execution": {
     "iopub.execute_input": "2023-07-28T06:10:28.766240Z",
     "iopub.status.busy": "2023-07-28T06:10:28.765461Z",
     "iopub.status.idle": "2023-07-28T06:10:33.462121Z",
     "shell.execute_reply": "2023-07-28T06:10:33.461229Z"
    },
    "papermill": {
     "duration": 4.716308,
     "end_time": "2023-07-28T06:10:33.464471",
     "exception": false,
     "start_time": "2023-07-28T06:10:28.748163",
     "status": "completed"
    },
    "tags": []
   },
   "outputs": [
    {
     "name": "stdout",
     "output_type": "stream",
     "text": [
      "Shape of X: (24325191, 2)\n",
      "Shape of y: (24325191,)\n"
     ]
    }
   ],
   "source": [
    "# Shuffle the dataset\n",
    "df = shuffle(df, random_state=100)\n",
    "\n",
    "# Create feature matrix X and target variable y\n",
    "X = df[['user_encoded', 'anime_encoded']].values\n",
    "y = df[\"scaled_score\"].values\n",
    "\n",
    "# Printing dataset information\n",
    "print(\"Shape of X:\", X.shape)\n",
    "print(\"Shape of y:\", y.shape)"
   ]
  },
  {
   "cell_type": "code",
   "execution_count": 9,
   "id": "1a65dd08",
   "metadata": {
    "execution": {
     "iopub.execute_input": "2023-07-28T06:10:33.494582Z",
     "iopub.status.busy": "2023-07-28T06:10:33.494285Z",
     "iopub.status.idle": "2023-07-28T06:10:36.671040Z",
     "shell.execute_reply": "2023-07-28T06:10:36.670078Z"
    },
    "papermill": {
     "duration": 3.194518,
     "end_time": "2023-07-28T06:10:36.673253",
     "exception": false,
     "start_time": "2023-07-28T06:10:33.478735",
     "status": "completed"
    },
    "tags": []
   },
   "outputs": [
    {
     "name": "stdout",
     "output_type": "stream",
     "text": [
      "Number of samples in the training set: 24315191\n",
      "Number of samples in the test set: 10000\n"
     ]
    }
   ],
   "source": [
    "test_set_size = 10000  # Number of samples to include in the test set\n",
    "\n",
    "X_train, X_test, y_train, y_test = train_test_split(X, y, test_size=test_set_size, random_state=73)\n",
    "\n",
    "print(\"Number of samples in the training set:\", len(y_train))\n",
    "print(\"Number of samples in the test set:\", len(y_test))"
   ]
  },
  {
   "cell_type": "code",
   "execution_count": 10,
   "id": "bf88a1e9",
   "metadata": {
    "execution": {
     "iopub.execute_input": "2023-07-28T06:10:36.703487Z",
     "iopub.status.busy": "2023-07-28T06:10:36.703184Z",
     "iopub.status.idle": "2023-07-28T06:10:36.707871Z",
     "shell.execute_reply": "2023-07-28T06:10:36.707101Z"
    },
    "papermill": {
     "duration": 0.022594,
     "end_time": "2023-07-28T06:10:36.710025",
     "exception": false,
     "start_time": "2023-07-28T06:10:36.687431",
     "status": "completed"
    },
    "tags": []
   },
   "outputs": [],
   "source": [
    "# Prepare input data for model training and evaluation\n",
    "X_train_array = [X_train[:, 0], X_train[:, 1]]\n",
    "X_test_array = [X_test[:, 0], X_test[:, 1]]"
   ]
  },
  {
   "cell_type": "code",
   "execution_count": 11,
   "id": "11b28eeb",
   "metadata": {
    "execution": {
     "iopub.execute_input": "2023-07-28T06:10:36.740515Z",
     "iopub.status.busy": "2023-07-28T06:10:36.740209Z",
     "iopub.status.idle": "2023-07-28T06:10:46.410153Z",
     "shell.execute_reply": "2023-07-28T06:10:46.408403Z"
    },
    "papermill": {
     "duration": 9.69542,
     "end_time": "2023-07-28T06:10:46.419966",
     "exception": false,
     "start_time": "2023-07-28T06:10:36.724546",
     "status": "completed"
    },
    "tags": []
   },
   "outputs": [
    {
     "name": "stdout",
     "output_type": "stream",
     "text": [
      "INFO:tensorflow:Deallocate tpu buffers before initializing tpu system.\n",
      "INFO:tensorflow:Initializing the TPU system: local\n",
      "INFO:tensorflow:Finished initializing TPU system.\n"
     ]
    },
    {
     "name": "stderr",
     "output_type": "stream",
     "text": [
      "WARNING:absl:`tf.distribute.experimental.TPUStrategy` is deprecated, please use  the non experimental symbol `tf.distribute.TPUStrategy` instead.\n"
     ]
    },
    {
     "name": "stdout",
     "output_type": "stream",
     "text": [
      "INFO:tensorflow:Found TPU system:\n"
     ]
    },
    {
     "name": "stderr",
     "output_type": "stream",
     "text": [
      "INFO:tensorflow:Found TPU system:\n"
     ]
    },
    {
     "name": "stdout",
     "output_type": "stream",
     "text": [
      "INFO:tensorflow:*** Num TPU Cores: 8\n"
     ]
    },
    {
     "name": "stderr",
     "output_type": "stream",
     "text": [
      "INFO:tensorflow:*** Num TPU Cores: 8\n"
     ]
    },
    {
     "name": "stdout",
     "output_type": "stream",
     "text": [
      "INFO:tensorflow:*** Num TPU Workers: 1\n"
     ]
    },
    {
     "name": "stderr",
     "output_type": "stream",
     "text": [
      "INFO:tensorflow:*** Num TPU Workers: 1\n"
     ]
    },
    {
     "name": "stdout",
     "output_type": "stream",
     "text": [
      "INFO:tensorflow:*** Num TPU Cores Per Worker: 8\n"
     ]
    },
    {
     "name": "stderr",
     "output_type": "stream",
     "text": [
      "INFO:tensorflow:*** Num TPU Cores Per Worker: 8\n"
     ]
    },
    {
     "name": "stdout",
     "output_type": "stream",
     "text": [
      "INFO:tensorflow:*** Available Device: _DeviceAttributes(/job:localhost/replica:0/task:0/device:CPU:0, CPU, 0, 0)\n"
     ]
    },
    {
     "name": "stderr",
     "output_type": "stream",
     "text": [
      "INFO:tensorflow:*** Available Device: _DeviceAttributes(/job:localhost/replica:0/task:0/device:CPU:0, CPU, 0, 0)\n"
     ]
    },
    {
     "name": "stdout",
     "output_type": "stream",
     "text": [
      "INFO:tensorflow:*** Available Device: _DeviceAttributes(/job:localhost/replica:0/task:0/device:TPU:0, TPU, 0, 0)\n"
     ]
    },
    {
     "name": "stderr",
     "output_type": "stream",
     "text": [
      "INFO:tensorflow:*** Available Device: _DeviceAttributes(/job:localhost/replica:0/task:0/device:TPU:0, TPU, 0, 0)\n"
     ]
    },
    {
     "name": "stdout",
     "output_type": "stream",
     "text": [
      "INFO:tensorflow:*** Available Device: _DeviceAttributes(/job:localhost/replica:0/task:0/device:TPU:1, TPU, 0, 0)\n"
     ]
    },
    {
     "name": "stderr",
     "output_type": "stream",
     "text": [
      "INFO:tensorflow:*** Available Device: _DeviceAttributes(/job:localhost/replica:0/task:0/device:TPU:1, TPU, 0, 0)\n"
     ]
    },
    {
     "name": "stdout",
     "output_type": "stream",
     "text": [
      "INFO:tensorflow:*** Available Device: _DeviceAttributes(/job:localhost/replica:0/task:0/device:TPU:2, TPU, 0, 0)\n"
     ]
    },
    {
     "name": "stderr",
     "output_type": "stream",
     "text": [
      "INFO:tensorflow:*** Available Device: _DeviceAttributes(/job:localhost/replica:0/task:0/device:TPU:2, TPU, 0, 0)\n"
     ]
    },
    {
     "name": "stdout",
     "output_type": "stream",
     "text": [
      "INFO:tensorflow:*** Available Device: _DeviceAttributes(/job:localhost/replica:0/task:0/device:TPU:3, TPU, 0, 0)\n"
     ]
    },
    {
     "name": "stderr",
     "output_type": "stream",
     "text": [
      "INFO:tensorflow:*** Available Device: _DeviceAttributes(/job:localhost/replica:0/task:0/device:TPU:3, TPU, 0, 0)\n"
     ]
    },
    {
     "name": "stdout",
     "output_type": "stream",
     "text": [
      "INFO:tensorflow:*** Available Device: _DeviceAttributes(/job:localhost/replica:0/task:0/device:TPU:4, TPU, 0, 0)\n"
     ]
    },
    {
     "name": "stderr",
     "output_type": "stream",
     "text": [
      "INFO:tensorflow:*** Available Device: _DeviceAttributes(/job:localhost/replica:0/task:0/device:TPU:4, TPU, 0, 0)\n"
     ]
    },
    {
     "name": "stdout",
     "output_type": "stream",
     "text": [
      "INFO:tensorflow:*** Available Device: _DeviceAttributes(/job:localhost/replica:0/task:0/device:TPU:5, TPU, 0, 0)\n"
     ]
    },
    {
     "name": "stderr",
     "output_type": "stream",
     "text": [
      "INFO:tensorflow:*** Available Device: _DeviceAttributes(/job:localhost/replica:0/task:0/device:TPU:5, TPU, 0, 0)\n"
     ]
    },
    {
     "name": "stdout",
     "output_type": "stream",
     "text": [
      "INFO:tensorflow:*** Available Device: _DeviceAttributes(/job:localhost/replica:0/task:0/device:TPU:6, TPU, 0, 0)\n"
     ]
    },
    {
     "name": "stderr",
     "output_type": "stream",
     "text": [
      "INFO:tensorflow:*** Available Device: _DeviceAttributes(/job:localhost/replica:0/task:0/device:TPU:6, TPU, 0, 0)\n"
     ]
    },
    {
     "name": "stdout",
     "output_type": "stream",
     "text": [
      "INFO:tensorflow:*** Available Device: _DeviceAttributes(/job:localhost/replica:0/task:0/device:TPU:7, TPU, 0, 0)\n"
     ]
    },
    {
     "name": "stderr",
     "output_type": "stream",
     "text": [
      "INFO:tensorflow:*** Available Device: _DeviceAttributes(/job:localhost/replica:0/task:0/device:TPU:7, TPU, 0, 0)\n"
     ]
    },
    {
     "name": "stdout",
     "output_type": "stream",
     "text": [
      "INFO:tensorflow:*** Available Device: _DeviceAttributes(/job:localhost/replica:0/task:0/device:TPU_SYSTEM:0, TPU_SYSTEM, 0, 0)\n"
     ]
    },
    {
     "name": "stderr",
     "output_type": "stream",
     "text": [
      "INFO:tensorflow:*** Available Device: _DeviceAttributes(/job:localhost/replica:0/task:0/device:TPU_SYSTEM:0, TPU_SYSTEM, 0, 0)\n"
     ]
    },
    {
     "name": "stdout",
     "output_type": "stream",
     "text": [
      "TensorFlow version: 2.12.0\n"
     ]
    }
   ],
   "source": [
    "# Setting TPU_INIT flag\n",
    "USE_TPU = True\n",
    "\n",
    "# Checking if TPU is initialized\n",
    "if USE_TPU:\n",
    "    # If tpu is connected then start creating TPUStrategy\n",
    "    tpu_resolver = tf.distribute.cluster_resolver.TPUClusterResolver.connect()\n",
    "    tpu_strategy = tf.distribute.experimental.TPUStrategy(tpu_resolver)\n",
    "else:\n",
    "    !nvidia-smi\n",
    "    \n",
    "# Print the TensorFlow version\n",
    "tf_version = tf.__version__\n",
    "print(f\"TensorFlow version: {tf_version}\")"
   ]
  },
  {
   "cell_type": "code",
   "execution_count": 12,
   "id": "e631cd46",
   "metadata": {
    "execution": {
     "iopub.execute_input": "2023-07-28T06:10:46.455903Z",
     "iopub.status.busy": "2023-07-28T06:10:46.455615Z",
     "iopub.status.idle": "2023-07-28T06:10:48.681348Z",
     "shell.execute_reply": "2023-07-28T06:10:48.680247Z"
    },
    "papermill": {
     "duration": 2.254124,
     "end_time": "2023-07-28T06:10:48.691429",
     "exception": false,
     "start_time": "2023-07-28T06:10:46.437305",
     "status": "completed"
    },
    "tags": []
   },
   "outputs": [
    {
     "name": "stdout",
     "output_type": "stream",
     "text": [
      "Model: \"model\"\n",
      "__________________________________________________________________________________________________\n",
      " Layer (type)                   Output Shape         Param #     Connected to                     \n",
      "==================================================================================================\n",
      " user_encoded (InputLayer)      [(None, 1)]          0           []                               \n",
      "                                                                                                  \n",
      " anime_encoded (InputLayer)     [(None, 1)]          0           []                               \n",
      "                                                                                                  \n",
      " user_embedding (Embedding)     (None, 1, 128)       34564224    ['user_encoded[0][0]']           \n",
      "                                                                                                  \n",
      " anime_embedding (Embedding)    (None, 1, 128)       2112000     ['anime_encoded[0][0]']          \n",
      "                                                                                                  \n",
      " dot_product (Dot)              (None, 1, 1)         0           ['user_embedding[0][0]',         \n",
      "                                                                  'anime_embedding[0][0]']        \n",
      "                                                                                                  \n",
      " flatten (Flatten)              (None, 1)            0           ['dot_product[0][0]']            \n",
      "                                                                                                  \n",
      " dense (Dense)                  (None, 64)           128         ['flatten[0][0]']                \n",
      "                                                                                                  \n",
      " dense_1 (Dense)                (None, 1)            65          ['dense[0][0]']                  \n",
      "                                                                                                  \n",
      "==================================================================================================\n",
      "Total params: 36,676,417\n",
      "Trainable params: 36,676,417\n",
      "Non-trainable params: 0\n",
      "__________________________________________________________________________________________________\n"
     ]
    }
   ],
   "source": [
    "def RecommenderNet(num_users, num_animes, embedding_size=128):\n",
    "    # User input layer and embedding layer\n",
    "    user = Input(name='user_encoded', shape=[1])\n",
    "    user_embedding = Embedding(name='user_embedding', input_dim=num_users, output_dim=embedding_size)(user)\n",
    "    \n",
    "    # Anime input layer and embedding layer\n",
    "    anime = Input(name='anime_encoded', shape=[1])\n",
    "    anime_embedding = Embedding(name='anime_embedding', input_dim=num_animes, output_dim=embedding_size)(anime)\n",
    "    \n",
    "    # Dot product of user and anime embeddings\n",
    "    dot_product = Dot(name='dot_product', normalize=True, axes=2)([user_embedding, anime_embedding])\n",
    "    flattened = Flatten()(dot_product)\n",
    "    \n",
    "    # Dense layers for prediction\n",
    "    dense = Dense(64, activation='relu')(flattened)\n",
    "    output = Dense(1, activation='sigmoid')(dense)\n",
    "    \n",
    "    # Create and compile the model\n",
    "    model = Model(inputs=[user, anime], outputs=output)\n",
    "    model.compile(loss='binary_crossentropy', optimizer=Adam(learning_rate=0.001), metrics=[\"mae\", \"mse\"])\n",
    "    \n",
    "    return model\n",
    "# Checking if TPU is initialized and create the model accordingly\n",
    "if USE_TPU:\n",
    "    with tpu_strategy.scope():\n",
    "        model = RecommenderNet(num_users, num_animes)\n",
    "else:\n",
    "    model = RecommenderNet(num_users, num_animes)\n",
    "\n",
    "# Printing my model summary\n",
    "model.summary()"
   ]
  },
  {
   "cell_type": "code",
   "execution_count": 13,
   "id": "a31d4252",
   "metadata": {
    "execution": {
     "iopub.execute_input": "2023-07-28T06:10:48.739898Z",
     "iopub.status.busy": "2023-07-28T06:10:48.739511Z",
     "iopub.status.idle": "2023-07-28T06:10:48.752546Z",
     "shell.execute_reply": "2023-07-28T06:10:48.751465Z"
    },
    "papermill": {
     "duration": 0.041421,
     "end_time": "2023-07-28T06:10:48.754830",
     "exception": false,
     "start_time": "2023-07-28T06:10:48.713409",
     "status": "completed"
    },
    "tags": []
   },
   "outputs": [],
   "source": [
    "## Import necessary callbacks\n",
    "from tensorflow.keras.callbacks import ModelCheckpoint, LearningRateScheduler, EarlyStopping\n",
    "\n",
    "# Define the initial learning rate, minimum learning rate, maximum learning rate, and batch size\n",
    "start_lr = 0.00001\n",
    "min_lr = 0.00001\n",
    "max_lr = 0.00005\n",
    "batch_size = 10000\n",
    "\n",
    "# Adjust the maximum learning rate and batch size if using TPU\n",
    "if USE_TPU:\n",
    "    max_lr = max_lr * tpu_strategy.num_replicas_in_sync\n",
    "    batch_size = batch_size * tpu_strategy.num_replicas_in_sync\n",
    "\n",
    "# Define the number of epochs for ramp-up, sustain, and exponential decay\n",
    "rampup_epochs = 5\n",
    "sustain_epochs = 0\n",
    "exp_decay = .8\n",
    "\n",
    "# Learning rate schedule function\n",
    "def lrfn(epoch):\n",
    "    if epoch < rampup_epochs:\n",
    "        return (max_lr - start_lr) / rampup_epochs * epoch + start_lr\n",
    "    elif epoch < rampup_epochs + sustain_epochs:\n",
    "        return max_lr\n",
    "    else:\n",
    "        return (max_lr - min_lr) * exp_decay**(epoch - rampup_epochs - sustain_epochs) + min_lr\n",
    "\n",
    "# Learning rate scheduler callback\n",
    "lr_callback = LearningRateScheduler(lambda epoch: lrfn(epoch), verbose=0)\n",
    "\n",
    "# File path for saving the model weights\n",
    "checkpoint_filepath = '/kaggle/working/myanimeweights.h5'\n",
    "\n",
    "# Model checkpoint callback to save the best weights\n",
    "model_checkpoints = ModelCheckpoint(filepath=checkpoint_filepath,\n",
    "                                    save_weights_only=True,\n",
    "                                    monitor='val_loss',\n",
    "                                    mode='min',\n",
    "                                    save_best_only=True)\n",
    "\n",
    "# Early stopping callback to prevent overfitting\n",
    "early_stopping = EarlyStopping(patience=3, monitor='val_loss', mode='min', restore_best_weights=True)\n",
    "\n",
    "# Define the list of callbacks\n",
    "my_callbacks = [\n",
    "    model_checkpoints,\n",
    "    lr_callback,\n",
    "    early_stopping\n",
    "]"
   ]
  },
  {
   "cell_type": "code",
   "execution_count": 14,
   "id": "ea24c7e5",
   "metadata": {
    "execution": {
     "iopub.execute_input": "2023-07-28T06:10:48.798496Z",
     "iopub.status.busy": "2023-07-28T06:10:48.798139Z",
     "iopub.status.idle": "2023-07-28T06:12:10.244111Z",
     "shell.execute_reply": "2023-07-28T06:12:10.242827Z"
    },
    "papermill": {
     "duration": 81.471222,
     "end_time": "2023-07-28T06:12:10.247133",
     "exception": false,
     "start_time": "2023-07-28T06:10:48.775911",
     "status": "completed"
    },
    "tags": []
   },
   "outputs": [
    {
     "name": "stdout",
     "output_type": "stream",
     "text": [
      "Epoch 1/20\n"
     ]
    },
    {
     "name": "stderr",
     "output_type": "stream",
     "text": [
      "2023-07-28 06:10:53.474547: E tensorflow/core/grappler/optimizers/meta_optimizer.cc:954] model_pruner failed: INVALID_ARGUMENT: Graph does not contain terminal node AssignAddVariableOp.\n",
      "2023-07-28 06:10:53.657305: E tensorflow/core/grappler/optimizers/meta_optimizer.cc:954] model_pruner failed: INVALID_ARGUMENT: Graph does not contain terminal node AssignAddVariableOp.\n"
     ]
    },
    {
     "name": "stdout",
     "output_type": "stream",
     "text": [
      "304/304 [==============================] - ETA: 0s - loss: 0.6882 - mae: 0.2592 - mse: 0.0873"
     ]
    },
    {
     "name": "stderr",
     "output_type": "stream",
     "text": [
      "2023-07-28 06:11:13.539485: E tensorflow/core/grappler/optimizers/meta_optimizer.cc:954] model_pruner failed: INVALID_ARGUMENT: Graph does not contain terminal node AssignAddVariableOp.\n",
      "2023-07-28 06:11:13.697971: E tensorflow/core/grappler/optimizers/meta_optimizer.cc:954] model_pruner failed: INVALID_ARGUMENT: Graph does not contain terminal node AssignAddVariableOp.\n"
     ]
    },
    {
     "name": "stdout",
     "output_type": "stream",
     "text": [
      "304/304 [==============================] - 24s 46ms/step - loss: 0.6882 - mae: 0.2592 - mse: 0.0873 - val_loss: 0.6858 - val_mae: 0.2566 - val_mse: 0.0857 - lr: 1.0000e-05\n",
      "Epoch 2/20\n",
      "304/304 [==============================] - 7s 22ms/step - loss: 0.6604 - mae: 0.2331 - mse: 0.0734 - val_loss: 0.6333 - val_mae: 0.2073 - val_mse: 0.0596 - lr: 8.8000e-05\n",
      "Epoch 3/20\n",
      "304/304 [==============================] - 7s 23ms/step - loss: 0.5989 - mae: 0.1705 - mse: 0.0437 - val_loss: 0.5787 - val_mae: 0.1485 - val_mse: 0.0342 - lr: 1.6600e-04\n",
      "Epoch 4/20\n",
      "304/304 [==============================] - 7s 22ms/step - loss: 0.5617 - mae: 0.1299 - mse: 0.0281 - val_loss: 0.5477 - val_mae: 0.1146 - val_mse: 0.0224 - lr: 2.4400e-04\n",
      "Epoch 5/20\n",
      "304/304 [==============================] - 7s 23ms/step - loss: 0.5393 - mae: 0.1062 - mse: 0.0196 - val_loss: 0.5403 - val_mae: 0.1068 - val_mse: 0.0197 - lr: 3.2200e-04\n",
      "Epoch 6/20\n",
      "304/304 [==============================] - 7s 22ms/step - loss: 0.5304 - mae: 0.0968 - mse: 0.0163 - val_loss: 0.5380 - val_mae: 0.1044 - val_mse: 0.0189 - lr: 4.0000e-04\n",
      "Epoch 7/20\n",
      "304/304 [==============================] - 6s 20ms/step - loss: 0.5225 - mae: 0.0878 - mse: 0.0135 - val_loss: 0.5380 - val_mae: 0.1043 - val_mse: 0.0190 - lr: 3.2200e-04\n",
      "Epoch 8/20\n",
      "304/304 [==============================] - 6s 20ms/step - loss: 0.5171 - mae: 0.0814 - mse: 0.0116 - val_loss: 0.5390 - val_mae: 0.1052 - val_mse: 0.0195 - lr: 2.5960e-04\n",
      "Epoch 9/20\n",
      "304/304 [==============================] - 8s 27ms/step - loss: 0.5135 - mae: 0.0768 - mse: 0.0104 - val_loss: 0.5402 - val_mae: 0.1062 - val_mse: 0.0199 - lr: 2.0968e-04\n"
     ]
    }
   ],
   "source": [
    "# Model training\n",
    "history = model.fit(\n",
    "    x=X_train_array,\n",
    "    y=y_train,\n",
    "    batch_size=batch_size,\n",
    "    epochs=20,\n",
    "    verbose=1,\n",
    "    validation_data=(X_test_array, y_test),\n",
    "    callbacks=my_callbacks\n",
    ")\n",
    "\n",
    "model.load_weights(checkpoint_filepath)"
   ]
  },
  {
   "cell_type": "code",
   "execution_count": 15,
   "id": "c1ba06e3",
   "metadata": {
    "execution": {
     "iopub.execute_input": "2023-07-28T06:12:10.452636Z",
     "iopub.status.busy": "2023-07-28T06:12:10.452266Z",
     "iopub.status.idle": "2023-07-28T06:12:10.866310Z",
     "shell.execute_reply": "2023-07-28T06:12:10.865110Z"
    },
    "papermill": {
     "duration": 0.519031,
     "end_time": "2023-07-28T06:12:10.868751",
     "exception": false,
     "start_time": "2023-07-28T06:12:10.349720",
     "status": "completed"
    },
    "tags": []
   },
   "outputs": [
    {
     "data": {
      "image/png": "[encoded data removed]",
      "text/plain": [
       "<Figure size 640x480 with 1 Axes>"
      ]
     },
     "metadata": {},
     "output_type": "display_data"
    }
   ],
   "source": [
    "# Training results visualization\n",
    "\n",
    "plt.plot(history.history[\"loss\"][0:-2])\n",
    "plt.plot(history.history[\"val_loss\"][0:-2])\n",
    "plt.title(\"Training Loss\")\n",
    "plt.ylabel(\"Loss\")\n",
    "plt.xlabel(\"Epoch\")\n",
    "plt.legend([\"Train\", \"Validation\"], loc=\"upper left\")\n",
    "plt.show()"
   ]
  },
  {
   "cell_type": "markdown",
   "id": "d7c99c22",
   "metadata": {
    "papermill": {
     "duration": 0.101043,
     "end_time": "2023-07-28T06:12:11.070680",
     "exception": false,
     "start_time": "2023-07-28T06:12:10.969637",
     "status": "completed"
    },
    "tags": []
   },
   "source": [
    "# Recommendation:"
   ]
  },
  {
   "cell_type": "code",
   "execution_count": 16,
   "id": "0808b142",
   "metadata": {
    "execution": {
     "iopub.execute_input": "2023-07-28T06:12:11.275041Z",
     "iopub.status.busy": "2023-07-28T06:12:11.274657Z",
     "iopub.status.idle": "2023-07-28T06:12:11.509242Z",
     "shell.execute_reply": "2023-07-28T06:12:11.507819Z"
    },
    "papermill": {
     "duration": 0.340685,
     "end_time": "2023-07-28T06:12:11.512256",
     "exception": false,
     "start_time": "2023-07-28T06:12:11.171571",
     "status": "completed"
    },
    "tags": []
   },
   "outputs": [],
   "source": [
    "def extract_weights(name, model):\n",
    "    # Get the layer by name from the model\n",
    "    weight_layer = model.get_layer(name)\n",
    "    \n",
    "    # Get the weights from the layer\n",
    "    weights = weight_layer.get_weights()[0]\n",
    "    \n",
    "    # Normalize the weights\n",
    "    weights = weights / np.linalg.norm(weights, axis=1).reshape((-1, 1))\n",
    "    \n",
    "    return weights\n",
    "\n",
    "# Extract weights for anime embeddings\n",
    "anime_weights = extract_weights('anime_embedding', model)\n",
    "# Extract weights for user embeddings\n",
    "user_weights = extract_weights('user_embedding', model)"
   ]
  },
  {
   "cell_type": "markdown",
   "id": "eb33d4ec",
   "metadata": {
    "papermill": {
     "duration": 0.09984,
     "end_time": "2023-07-28T06:12:11.714098",
     "exception": false,
     "start_time": "2023-07-28T06:12:11.614258",
     "status": "completed"
    },
    "tags": []
   },
   "source": [
    "#### Reading the whole dataset"
   ]
  },
  {
   "cell_type": "code",
   "execution_count": 17,
   "id": "7d089dcf",
   "metadata": {
    "execution": {
     "iopub.execute_input": "2023-07-28T06:12:11.917737Z",
     "iopub.status.busy": "2023-07-28T06:12:11.917301Z",
     "iopub.status.idle": "2023-07-28T06:12:12.419987Z",
     "shell.execute_reply": "2023-07-28T06:12:12.418558Z"
    },
    "papermill": {
     "duration": 0.607798,
     "end_time": "2023-07-28T06:12:12.423043",
     "exception": false,
     "start_time": "2023-07-28T06:12:11.815245",
     "status": "completed"
    },
    "tags": []
   },
   "outputs": [],
   "source": [
    "df_anime=pd.read_csv('/kaggle/input/myanimelist-dataset/anime-dataset-2023.csv')"
   ]
  },
  {
   "cell_type": "markdown",
   "id": "b55f4865",
   "metadata": {
    "papermill": {
     "duration": 0.101806,
     "end_time": "2023-07-28T06:12:12.627620",
     "exception": false,
     "start_time": "2023-07-28T06:12:12.525814",
     "status": "completed"
    },
    "tags": []
   },
   "source": [
    "#### Now I want my model to recommend only those animes that have been rated by at least a certain number of users, which I will set as the threshold. This threshold helps ensure that the recommended anime titles have received a sufficient number of ratings, indicating a certain level of popularity or user engagement."
   ]
  },
  {
   "cell_type": "code",
   "execution_count": 18,
   "id": "966b26aa",
   "metadata": {
    "execution": {
     "iopub.execute_input": "2023-07-28T06:12:12.836898Z",
     "iopub.status.busy": "2023-07-28T06:12:12.835871Z",
     "iopub.status.idle": "2023-07-28T06:12:12.877839Z",
     "shell.execute_reply": "2023-07-28T06:12:12.876663Z"
    },
    "papermill": {
     "duration": 0.150399,
     "end_time": "2023-07-28T06:12:12.880153",
     "exception": false,
     "start_time": "2023-07-28T06:12:12.729754",
     "status": "completed"
    },
    "tags": []
   },
   "outputs": [
    {
     "name": "stdout",
     "output_type": "stream",
     "text": [
      "(22879, 24)\n"
     ]
    },
    {
     "data": {
      "text/html": [
       "<div>\n",
       "<style scoped>\n",
       "    .dataframe tbody tr th:only-of-type {\n",
       "        vertical-align: middle;\n",
       "    }\n",
       "\n",
       "    .dataframe tbody tr th {\n",
       "        vertical-align: top;\n",
       "    }\n",
       "\n",
       "    .dataframe thead th {\n",
       "        text-align: right;\n",
       "    }\n",
       "</style>\n",
       "<table border=\"1\" class=\"dataframe\">\n",
       "  <thead>\n",
       "    <tr style=\"text-align: right;\">\n",
       "      <th></th>\n",
       "      <th>anime_id</th>\n",
       "      <th>Name</th>\n",
       "      <th>English name</th>\n",
       "      <th>Other name</th>\n",
       "      <th>Score</th>\n",
       "      <th>Genres</th>\n",
       "      <th>Synopsis</th>\n",
       "      <th>Type</th>\n",
       "      <th>Episodes</th>\n",
       "      <th>Aired</th>\n",
       "      <th>...</th>\n",
       "      <th>Studios</th>\n",
       "      <th>Source</th>\n",
       "      <th>Duration</th>\n",
       "      <th>Rating</th>\n",
       "      <th>Rank</th>\n",
       "      <th>Popularity</th>\n",
       "      <th>Favorites</th>\n",
       "      <th>Scored By</th>\n",
       "      <th>Members</th>\n",
       "      <th>Image URL</th>\n",
       "    </tr>\n",
       "  </thead>\n",
       "  <tbody>\n",
       "    <tr>\n",
       "      <th>0</th>\n",
       "      <td>1</td>\n",
       "      <td>Cowboy Bebop</td>\n",
       "      <td>Cowboy Bebop</td>\n",
       "      <td>カウボーイビバップ</td>\n",
       "      <td>8.75</td>\n",
       "      <td>Action, Award Winning, Sci-Fi</td>\n",
       "      <td>Crime is timeless. By the year 2071, humanity ...</td>\n",
       "      <td>TV</td>\n",
       "      <td>26.0</td>\n",
       "      <td>Apr 3, 1998 to Apr 24, 1999</td>\n",
       "      <td>...</td>\n",
       "      <td>Sunrise</td>\n",
       "      <td>Original</td>\n",
       "      <td>24 min per ep</td>\n",
       "      <td>R - 17+ (violence &amp; profanity)</td>\n",
       "      <td>41.0</td>\n",
       "      <td>43</td>\n",
       "      <td>78525</td>\n",
       "      <td>914193.0</td>\n",
       "      <td>1771505</td>\n",
       "      <td>https://cdn.myanimelist.net/images/anime/4/196...</td>\n",
       "    </tr>\n",
       "    <tr>\n",
       "      <th>1</th>\n",
       "      <td>5</td>\n",
       "      <td>Cowboy Bebop: Tengoku no Tobira</td>\n",
       "      <td>Cowboy Bebop: The Movie</td>\n",
       "      <td>カウボーイビバップ 天国の扉</td>\n",
       "      <td>8.38</td>\n",
       "      <td>Action, Sci-Fi</td>\n",
       "      <td>Another day, another bounty—such is the life o...</td>\n",
       "      <td>Movie</td>\n",
       "      <td>1.0</td>\n",
       "      <td>Sep 1, 2001</td>\n",
       "      <td>...</td>\n",
       "      <td>Bones</td>\n",
       "      <td>Original</td>\n",
       "      <td>1 hr 55 min</td>\n",
       "      <td>R - 17+ (violence &amp; profanity)</td>\n",
       "      <td>189.0</td>\n",
       "      <td>602</td>\n",
       "      <td>1448</td>\n",
       "      <td>206248.0</td>\n",
       "      <td>360978</td>\n",
       "      <td>https://cdn.myanimelist.net/images/anime/1439/...</td>\n",
       "    </tr>\n",
       "    <tr>\n",
       "      <th>2</th>\n",
       "      <td>6</td>\n",
       "      <td>Trigun</td>\n",
       "      <td>Trigun</td>\n",
       "      <td>トライガン</td>\n",
       "      <td>8.22</td>\n",
       "      <td>Action, Adventure, Sci-Fi</td>\n",
       "      <td>Vash the Stampede is the man with a $$60,000,0...</td>\n",
       "      <td>TV</td>\n",
       "      <td>26.0</td>\n",
       "      <td>Apr 1, 1998 to Sep 30, 1998</td>\n",
       "      <td>...</td>\n",
       "      <td>Madhouse</td>\n",
       "      <td>Manga</td>\n",
       "      <td>24 min per ep</td>\n",
       "      <td>PG-13 - Teens 13 or older</td>\n",
       "      <td>328.0</td>\n",
       "      <td>246</td>\n",
       "      <td>15035</td>\n",
       "      <td>356739.0</td>\n",
       "      <td>727252</td>\n",
       "      <td>https://cdn.myanimelist.net/images/anime/7/203...</td>\n",
       "    </tr>\n",
       "  </tbody>\n",
       "</table>\n",
       "<p>3 rows × 24 columns</p>\n",
       "</div>"
      ],
      "text/plain": [
       "   anime_id                             Name             English name   \n",
       "0         1                     Cowboy Bebop             Cowboy Bebop  \\\n",
       "1         5  Cowboy Bebop: Tengoku no Tobira  Cowboy Bebop: The Movie   \n",
       "2         6                           Trigun                   Trigun   \n",
       "\n",
       "       Other name Score                         Genres   \n",
       "0       カウボーイビバップ  8.75  Action, Award Winning, Sci-Fi  \\\n",
       "1  カウボーイビバップ 天国の扉  8.38                 Action, Sci-Fi   \n",
       "2           トライガン  8.22      Action, Adventure, Sci-Fi   \n",
       "\n",
       "                                            Synopsis   Type Episodes   \n",
       "0  Crime is timeless. By the year 2071, humanity ...     TV     26.0  \\\n",
       "1  Another day, another bounty—such is the life o...  Movie      1.0   \n",
       "2  Vash the Stampede is the man with a $$60,000,0...     TV     26.0   \n",
       "\n",
       "                         Aired  ...   Studios    Source       Duration   \n",
       "0  Apr 3, 1998 to Apr 24, 1999  ...   Sunrise  Original  24 min per ep  \\\n",
       "1                  Sep 1, 2001  ...     Bones  Original    1 hr 55 min   \n",
       "2  Apr 1, 1998 to Sep 30, 1998  ...  Madhouse     Manga  24 min per ep   \n",
       "\n",
       "                           Rating   Rank Popularity Favorites Scored By   \n",
       "0  R - 17+ (violence & profanity)   41.0         43     78525  914193.0  \\\n",
       "1  R - 17+ (violence & profanity)  189.0        602      1448  206248.0   \n",
       "2       PG-13 - Teens 13 or older  328.0        246     15035  356739.0   \n",
       "\n",
       "   Members                                          Image URL  \n",
       "0  1771505  https://cdn.myanimelist.net/images/anime/4/196...  \n",
       "1   360978  https://cdn.myanimelist.net/images/anime/1439/...  \n",
       "2   727252  https://cdn.myanimelist.net/images/anime/7/203...  \n",
       "\n",
       "[3 rows x 24 columns]"
      ]
     },
     "execution_count": 18,
     "metadata": {},
     "output_type": "execute_result"
    }
   ],
   "source": [
    "popularity_threshold = 50\n",
    "df_anime= df_anime.query('Members >= @popularity_threshold')\n",
    "print(df_anime.shape)\n",
    "df_anime.head(3)      # only give rating of those movies for which atleast 200 user have rated"
   ]
  },
  {
   "cell_type": "markdown",
   "id": "41021540",
   "metadata": {
    "papermill": {
     "duration": 0.114019,
     "end_time": "2023-07-28T06:12:13.102964",
     "exception": false,
     "start_time": "2023-07-28T06:12:12.988945",
     "status": "completed"
    },
    "tags": []
   },
   "source": [
    "# 1: Item Based Recommendation"
   ]
  },
  {
   "cell_type": "code",
   "execution_count": 19,
   "id": "c39459c6",
   "metadata": {
    "execution": {
     "iopub.execute_input": "2023-07-28T06:12:13.310301Z",
     "iopub.status.busy": "2023-07-28T06:12:13.309860Z",
     "iopub.status.idle": "2023-07-28T06:12:13.324035Z",
     "shell.execute_reply": "2023-07-28T06:12:13.322855Z"
    },
    "papermill": {
     "duration": 0.119554,
     "end_time": "2023-07-28T06:12:13.326244",
     "exception": false,
     "start_time": "2023-07-28T06:12:13.206690",
     "status": "completed"
    },
    "tags": []
   },
   "outputs": [],
   "source": [
    "def find_similar_animes(name, n=10, return_dist=False, neg=False):\n",
    "    try:\n",
    "        anime_row = df_anime[df_anime['Name'] == name].iloc[0]\n",
    "        index = anime_row['anime_id']\n",
    "        encoded_index = anime_encoder.transform([index])[0]\n",
    "        weights = anime_weights\n",
    "        dists = np.dot(weights, weights[encoded_index])\n",
    "        sorted_dists = np.argsort(dists)\n",
    "        n = n + 1            \n",
    "        if neg:\n",
    "            closest = sorted_dists[:n]\n",
    "        else:\n",
    "            closest = sorted_dists[-n:]\n",
    "        print('Animes closest to {}'.format(name))\n",
    "        if return_dist:\n",
    "            return dists, closest\n",
    "        \n",
    "        SimilarityArr = []\n",
    "        \n",
    "        for close in closest:\n",
    "            decoded_id = anime_encoder.inverse_transform([close])[0]\n",
    "            anime_frame = df_anime[df_anime['anime_id'] == decoded_id]\n",
    "            \n",
    "            anime_name = anime_frame['Name'].values[0]\n",
    "            english_name = anime_frame['English name'].values[0]\n",
    "            name = english_name if english_name != \"UNKNOWN\" else anime_name\n",
    "            genre = anime_frame['Genres'].values[0]\n",
    "            Synopsis = anime_frame['Synopsis'].values[0]\n",
    "            similarity = dists[close]\n",
    "            similarity = \"{:.2f}%\".format(similarity * 100)\n",
    "            SimilarityArr.append({\"Name\": name, \"Similarity\": similarity, \"Genres\": genre, \"Synopsis\":Synopsis})\n",
    "        Frame = pd.DataFrame(SimilarityArr).sort_values(by=\"Similarity\", ascending=False)\n",
    "        return Frame[Frame.Name != name]\n",
    "    except:\n",
    "        print('{} not found in Anime list'.format(name))\n",
    "\n",
    "pd.set_option('display.max_colwidth', None)"
   ]
  },
  {
   "cell_type": "code",
   "execution_count": 20,
   "id": "72bd2363",
   "metadata": {
    "execution": {
     "iopub.execute_input": "2023-07-28T06:12:13.532458Z",
     "iopub.status.busy": "2023-07-28T06:12:13.532162Z",
     "iopub.status.idle": "2023-07-28T06:12:13.583520Z",
     "shell.execute_reply": "2023-07-28T06:12:13.581285Z"
    },
    "papermill": {
     "duration": 0.159493,
     "end_time": "2023-07-28T06:12:13.588234",
     "exception": false,
     "start_time": "2023-07-28T06:12:13.428741",
     "status": "completed"
    },
    "tags": []
   },
   "outputs": [
    {
     "name": "stdout",
     "output_type": "stream",
     "text": [
      "Animes closest to Tensei shitara Slime Datta Ken\n"
     ]
    },
    {
     "data": {
      "text/html": [
       "<div>\n",
       "<style scoped>\n",
       "    .dataframe tbody tr th:only-of-type {\n",
       "        vertical-align: middle;\n",
       "    }\n",
       "\n",
       "    .dataframe tbody tr th {\n",
       "        vertical-align: top;\n",
       "    }\n",
       "\n",
       "    .dataframe thead th {\n",
       "        text-align: right;\n",
       "    }\n",
       "</style>\n",
       "<table border=\"1\" class=\"dataframe\">\n",
       "  <thead>\n",
       "    <tr style=\"text-align: right;\">\n",
       "      <th></th>\n",
       "      <th>Name</th>\n",
       "      <th>Similarity</th>\n",
       "      <th>Genres</th>\n",
       "      <th>Synopsis</th>\n",
       "    </tr>\n",
       "  </thead>\n",
       "  <tbody>\n",
       "    <tr>\n",
       "      <th>4</th>\n",
       "      <td>That Time I Got Reincarnated as a Slime Season 2</td>\n",
       "      <td>84.75%</td>\n",
       "      <td>Action, Adventure, Comedy, Fantasy</td>\n",
       "      <td>Taking a break from his time as a teacher, the powerful slime Rimuru Tempest returns to his kingdom, eponymously named Tempest, just in time to begin negotiations with a nearby nation—the Kingdom of Eurazania. While the negotiations are anything but peaceful, they do end successfully, allowing Rimuru to return and finish teaching. When trying to again return to Tempest, this time permanently, Rimuru is stopped by a mysterious figure who is somehow able to constrain the many magical abilities he has at his disposal. \\n\\nIn Tempest, the situation is even worse. A group of unknown humans has invaded the land and are assaulting its citizens, both influential and innocent. They are not just trying to bring harm either—they have the intent to kill. Can Rimuru overcome his powerful and dangerous foe and return to Tempest before it is too late?</td>\n",
       "    </tr>\n",
       "    <tr>\n",
       "      <th>3</th>\n",
       "      <td>That Time I Got Reincarnated as a Slime Season 2 Part 2</td>\n",
       "      <td>79.61%</td>\n",
       "      <td>Action, Adventure, Comedy, Fantasy</td>\n",
       "      <td>The nation of Tempest is in a festive mood after successfully overcoming the surprise attack from the Falmuth Army and the Western Holy Church. Beyond the festivities lies a meeting between Tempest and its allies to decide the future of the Nation of Monsters. The aftermath of the Falmuth invasion, Milim Nava's suspicious behavior, and the disappearance of Demon Lord Carrion—the problems seem to keep on piling up.\\n\\nRimuru Tempest, now awakened as a \"True Demon Lord,\" decides to go on the offensive against Clayman. With the fully revived \"Storm Dragon\" Veldora, \"Ultimate Skill\" Raphael, and other powerful comrades, the ruler of the Tempest is confident in taking down his enemies one by one until he can face the man pulling the strings.</td>\n",
       "    </tr>\n",
       "    <tr>\n",
       "      <th>2</th>\n",
       "      <td>Overlord III</td>\n",
       "      <td>74.71%</td>\n",
       "      <td>Action, Adventure, Fantasy</td>\n",
       "      <td>Following the horrific assault on the Re-Estize capital city, the Guardians of the Great Tomb of Nazarick return home to their master Ainz Ooal Gown. After months of laying the groundwork, they are finally ready to set their plans of world domination into action.\\n\\nAs Ainz's war machine gathers strength, the rest of the world keeps moving. The remote Carne Village, which Ainz once saved from certain doom, continues to prosper despite the many threats on its doorstep. And in the northeastern Baharuth Empire, a certain Bloody Emperor sets his sights on the rising power of Nazarick.\\n\\nBlood is shed, heroes fall, and nations rise. Can anyone, or anything, challenge the supreme power of Ainz Ooal Gown?</td>\n",
       "    </tr>\n",
       "    <tr>\n",
       "      <th>1</th>\n",
       "      <td>The Rising of the Shield Hero</td>\n",
       "      <td>73.89%</td>\n",
       "      <td>Action, Adventure, Drama, Fantasy</td>\n",
       "      <td>The Four Cardinal Heroes are a group of ordinary men from modern-day Japan summoned to the kingdom of Melromarc to become its saviors. Melromarc is a country plagued by the Waves of Catastrophe that have repeatedly ravaged the land and brought disaster to its citizens for centuries. The four heroes are respectively bestowed a sword, spear, bow, and shield to vanquish these Waves. Naofumi Iwatani, an otaku, becomes cursed with the fate of being the \"Shield Hero.\" Armed with only a measly shield, Naofumi is belittled and ridiculed by his fellow heroes and the kingdom's people due to his weak offensive capabilities and lackluster personality.\\n\\nWhen the heroes are provided with resources and comrades to train with, Naofumi sets out with the only person willing to train alongside him, Malty Melromarc. He is soon betrayed by her, however, and becomes falsely accused of taking advantage of her. Naofumi then becomes heavily discriminated against and hated by the people of Melromarc for something he didn't do. With a raging storm of hurt and mistrust in his heart, Naofumi begins his journey of strengthening himself and his reputation. Further along however, the difficulty of being on his own sets in, so Naofumi buys a demi-human slave on the verge of death named Raphtalia to accompany him on his travels.\\n\\nAs the Waves approach the kingdom, Naofumi and Raphtalia must fight for the survival of the kingdom and protect the people of Melromarc from their ill-fated future.</td>\n",
       "    </tr>\n",
       "    <tr>\n",
       "      <th>0</th>\n",
       "      <td>Magi: Adventure of Sinbad</td>\n",
       "      <td>71.57%</td>\n",
       "      <td>Action, Adventure, Fantasy</td>\n",
       "      <td>In the small, impoverished Tison Village of the Parthevia Empire, a boy, Sinbad, is born to the jaded ex-soldier Badr and his kind-hearted wife Esra. His birth creates a radiant surge throughout the rukh, a declaration of a singularity to those who stand at the pinnacle of magical might: the \"Child of Destiny\" is here. Despite his country being plagued by economic instability and the repercussions of war, Sinbad leads a cheerful life—until a stranger's arrival shatters his peaceful world, and tragedy soon befalls him.\\n\\nYears later, mysterious edifices called \"dungeons\" have been erected all over the world. Rumored to contain great power and treasures, these dungeons piqued the interest of adventurers and armies alike; though to this day, none have returned therefrom. Sinbad, now 14, has grown into a charming and talented young boy. Inspired by the shocking events of his childhood and by his father's words, he yearns to begin exploring the world beyond his village. As though orchestrated by fate, Sinbad meets an enigmatic traveler named Yunan. Stirred by Sinbad's story and ambitions, Yunan directs him to a dungeon which he claims holds the power Sinbad needs to achieve his goals—the \"power of a king.\"\\n\\nMagi: Sinbad no Bouken tells the epic saga of Sinbad's early life as he travels the world, honing his skill and influence, while gathering allies and power to become the High King of the Seven Seas.</td>\n",
       "    </tr>\n",
       "  </tbody>\n",
       "</table>\n",
       "</div>"
      ],
      "text/plain": [
       "                                                      Name Similarity   \n",
       "4         That Time I Got Reincarnated as a Slime Season 2     84.75%  \\\n",
       "3  That Time I Got Reincarnated as a Slime Season 2 Part 2     79.61%   \n",
       "2                                             Overlord III     74.71%   \n",
       "1                            The Rising of the Shield Hero     73.89%   \n",
       "0                                Magi: Adventure of Sinbad     71.57%   \n",
       "\n",
       "                               Genres   \n",
       "4  Action, Adventure, Comedy, Fantasy  \\\n",
       "3  Action, Adventure, Comedy, Fantasy   \n",
       "2          Action, Adventure, Fantasy   \n",
       "1   Action, Adventure, Drama, Fantasy   \n",
       "0          Action, Adventure, Fantasy   \n",
       "\n",
       "                                                                                                                                                                                                                                                                                                                                                                                                                                                                                                                                                                                                                                                                                                                                                                                                                                                                                                                                                                                                                                                                                                                                                                                                                                                                                                                                                                                                                                                                                                                                         Synopsis  \n",
       "4                                                                                                                                                                                                                                                                                                                                                                                                                                                                                                                                                                                                                                                                Taking a break from his time as a teacher, the powerful slime Rimuru Tempest returns to his kingdom, eponymously named Tempest, just in time to begin negotiations with a nearby nation—the Kingdom of Eurazania. While the negotiations are anything but peaceful, they do end successfully, allowing Rimuru to return and finish teaching. When trying to again return to Tempest, this time permanently, Rimuru is stopped by a mysterious figure who is somehow able to constrain the many magical abilities he has at his disposal. \\n\\nIn Tempest, the situation is even worse. A group of unknown humans has invaded the land and are assaulting its citizens, both influential and innocent. They are not just trying to bring harm either—they have the intent to kill. Can Rimuru overcome his powerful and dangerous foe and return to Tempest before it is too late?  \n",
       "3                                                                                                                                                                                                                                                                                                                                                                                                                                                                                                                                                                                                                                                                                                                                                                      The nation of Tempest is in a festive mood after successfully overcoming the surprise attack from the Falmuth Army and the Western Holy Church. Beyond the festivities lies a meeting between Tempest and its allies to decide the future of the Nation of Monsters. The aftermath of the Falmuth invasion, Milim Nava's suspicious behavior, and the disappearance of Demon Lord Carrion—the problems seem to keep on piling up.\\n\\nRimuru Tempest, now awakened as a \"True Demon Lord,\" decides to go on the offensive against Clayman. With the fully revived \"Storm Dragon\" Veldora, \"Ultimate Skill\" Raphael, and other powerful comrades, the ruler of the Tempest is confident in taking down his enemies one by one until he can face the man pulling the strings.  \n",
       "2                                                                                                                                                                                                                                                                                                                                                                                                                                                                                                                                                                                                                                                                                                                                                                                                            Following the horrific assault on the Re-Estize capital city, the Guardians of the Great Tomb of Nazarick return home to their master Ainz Ooal Gown. After months of laying the groundwork, they are finally ready to set their plans of world domination into action.\\n\\nAs Ainz's war machine gathers strength, the rest of the world keeps moving. The remote Carne Village, which Ainz once saved from certain doom, continues to prosper despite the many threats on its doorstep. And in the northeastern Baharuth Empire, a certain Bloody Emperor sets his sights on the rising power of Nazarick.\\n\\nBlood is shed, heroes fall, and nations rise. Can anyone, or anything, challenge the supreme power of Ainz Ooal Gown?  \n",
       "1  The Four Cardinal Heroes are a group of ordinary men from modern-day Japan summoned to the kingdom of Melromarc to become its saviors. Melromarc is a country plagued by the Waves of Catastrophe that have repeatedly ravaged the land and brought disaster to its citizens for centuries. The four heroes are respectively bestowed a sword, spear, bow, and shield to vanquish these Waves. Naofumi Iwatani, an otaku, becomes cursed with the fate of being the \"Shield Hero.\" Armed with only a measly shield, Naofumi is belittled and ridiculed by his fellow heroes and the kingdom's people due to his weak offensive capabilities and lackluster personality.\\n\\nWhen the heroes are provided with resources and comrades to train with, Naofumi sets out with the only person willing to train alongside him, Malty Melromarc. He is soon betrayed by her, however, and becomes falsely accused of taking advantage of her. Naofumi then becomes heavily discriminated against and hated by the people of Melromarc for something he didn't do. With a raging storm of hurt and mistrust in his heart, Naofumi begins his journey of strengthening himself and his reputation. Further along however, the difficulty of being on his own sets in, so Naofumi buys a demi-human slave on the verge of death named Raphtalia to accompany him on his travels.\\n\\nAs the Waves approach the kingdom, Naofumi and Raphtalia must fight for the survival of the kingdom and protect the people of Melromarc from their ill-fated future.  \n",
       "0                                                                 In the small, impoverished Tison Village of the Parthevia Empire, a boy, Sinbad, is born to the jaded ex-soldier Badr and his kind-hearted wife Esra. His birth creates a radiant surge throughout the rukh, a declaration of a singularity to those who stand at the pinnacle of magical might: the \"Child of Destiny\" is here. Despite his country being plagued by economic instability and the repercussions of war, Sinbad leads a cheerful life—until a stranger's arrival shatters his peaceful world, and tragedy soon befalls him.\\n\\nYears later, mysterious edifices called \"dungeons\" have been erected all over the world. Rumored to contain great power and treasures, these dungeons piqued the interest of adventurers and armies alike; though to this day, none have returned therefrom. Sinbad, now 14, has grown into a charming and talented young boy. Inspired by the shocking events of his childhood and by his father's words, he yearns to begin exploring the world beyond his village. As though orchestrated by fate, Sinbad meets an enigmatic traveler named Yunan. Stirred by Sinbad's story and ambitions, Yunan directs him to a dungeon which he claims holds the power Sinbad needs to achieve his goals—the \"power of a king.\"\\n\\nMagi: Sinbad no Bouken tells the epic saga of Sinbad's early life as he travels the world, honing his skill and influence, while gathering allies and power to become the High King of the Seven Seas.  "
      ]
     },
     "execution_count": 20,
     "metadata": {},
     "output_type": "execute_result"
    }
   ],
   "source": [
    "find_similar_animes('Tensei shitara Slime Datta Ken', n=5, neg=False)  # That Time I Got Reincarnated as a Slime"
   ]
  },
  {
   "cell_type": "code",
   "execution_count": 21,
   "id": "4afbb115",
   "metadata": {
    "execution": {
     "iopub.execute_input": "2023-07-28T06:12:13.851569Z",
     "iopub.status.busy": "2023-07-28T06:12:13.851272Z",
     "iopub.status.idle": "2023-07-28T06:12:13.899782Z",
     "shell.execute_reply": "2023-07-28T06:12:13.897359Z"
    },
    "papermill": {
     "duration": 0.157302,
     "end_time": "2023-07-28T06:12:13.904486",
     "exception": false,
     "start_time": "2023-07-28T06:12:13.747184",
     "status": "completed"
    },
    "tags": []
   },
   "outputs": [
    {
     "name": "stdout",
     "output_type": "stream",
     "text": [
      "Animes closest to Shigatsu wa Kimi no Uso\n"
     ]
    },
    {
     "data": {
      "text/html": [
       "<div>\n",
       "<style scoped>\n",
       "    .dataframe tbody tr th:only-of-type {\n",
       "        vertical-align: middle;\n",
       "    }\n",
       "\n",
       "    .dataframe tbody tr th {\n",
       "        vertical-align: top;\n",
       "    }\n",
       "\n",
       "    .dataframe thead th {\n",
       "        text-align: right;\n",
       "    }\n",
       "</style>\n",
       "<table border=\"1\" class=\"dataframe\">\n",
       "  <thead>\n",
       "    <tr style=\"text-align: right;\">\n",
       "      <th></th>\n",
       "      <th>Name</th>\n",
       "      <th>Similarity</th>\n",
       "      <th>Genres</th>\n",
       "      <th>Synopsis</th>\n",
       "    </tr>\n",
       "  </thead>\n",
       "  <tbody>\n",
       "    <tr>\n",
       "      <th>4</th>\n",
       "      <td>Your Name.</td>\n",
       "      <td>88.96%</td>\n",
       "      <td>Award Winning, Drama, Supernatural</td>\n",
       "      <td>Mitsuha Miyamizu, a high school girl, yearns to live the life of a boy in the bustling city of Tokyo—a dream that stands in stark contrast to her present life in the countryside. Meanwhile in the city, Taki Tachibana lives a busy life as a high school student while juggling his part-time job and hopes for a future in architecture.\\n\\nOne day, Mitsuha awakens in a room that is not her own and suddenly finds herself living the dream life in Tokyo—but in Taki's body! Elsewhere, Taki finds himself living Mitsuha's life in the humble countryside. In pursuit of an answer to this strange phenomenon, they begin to search for one another.\\n\\nKimi no Na wa. revolves around Mitsuha and Taki's actions, which begin to have a dramatic impact on each other's lives, weaving them into a fabric held together by fate and circumstance.</td>\n",
       "    </tr>\n",
       "    <tr>\n",
       "      <th>3</th>\n",
       "      <td>A Silent Voice</td>\n",
       "      <td>88.10%</td>\n",
       "      <td>Award Winning, Drama</td>\n",
       "      <td>As a wild youth, elementary school student Shouya Ishida sought to beat boredom in the cruelest ways. When the deaf Shouko Nishimiya transfers into his class, Shouya and the rest of his class thoughtlessly bully her for fun. However, when her mother notifies the school, he is singled out and blamed for everything done to her. With Shouko transferring out of the school, Shouya is left at the mercy of his classmates. He is heartlessly ostracized all throughout elementary and middle school, while teachers turn a blind eye.\\n\\nNow in his third year of high school, Shouya is still plagued by his wrongdoings as a young boy. Sincerely regretting his past actions, he sets out on a journey of redemption: to meet Shouko once more and make amends.\\n\\nKoe no Katachi tells the heartwarming tale of Shouya's reunion with Shouko and his honest attempts to redeem himself, all while being continually haunted by the shadows of his past.</td>\n",
       "    </tr>\n",
       "    <tr>\n",
       "      <th>2</th>\n",
       "      <td>Anohana: The Flower We Saw That Day</td>\n",
       "      <td>84.63%</td>\n",
       "      <td>Drama, Supernatural</td>\n",
       "      <td>Jinta Yadomi is peacefully living as a recluse, spending his days away from school and playing video games at home instead. One hot summer day, his childhood friend, Meiko \"Menma\" Honma, appears and pesters him to grant a forgotten wish. He pays her no mind, which annoys her, but he doesn't really care. After all, Menma already died years ago.\\n\\nAt first, Jinta thinks that he is merely hallucinating due to the summer heat, but he is later on convinced that what he sees truly is the ghost of Menma. Jinta and his group of childhood friends grew apart after her untimely death, but they are drawn together once more as they try to lay Menma's spirit to rest. Re-living their pain and guilt, will they be able to find the strength to help not only Menma move on—but themselves as well?</td>\n",
       "    </tr>\n",
       "    <tr>\n",
       "      <th>1</th>\n",
       "      <td>ERASED</td>\n",
       "      <td>84.62%</td>\n",
       "      <td>Mystery, Supernatural, Suspense</td>\n",
       "      <td>When tragedy is about to strike, Satoru Fujinuma finds himself sent back several minutes before the accident occurs. The detached, 29-year-old manga artist has taken advantage of this powerful yet mysterious phenomenon, which he calls \"Revival,\" to save many lives.\\n \\nHowever, when he is wrongfully accused of murdering someone close to him, Satoru is sent back to the past once again, but this time to 1988, 18 years in the past. Soon, he realizes that the murder may be connected to the abduction and killing of one of his classmates, the solitary and mysterious Kayo Hinazuki, that took place when he was a child. This is his chance to make things right.\\n \\nBoku dake ga Inai Machi follows Satoru in his mission to uncover what truly transpired 18 years ago and prevent the death of his classmate while protecting those he cares about in the present.</td>\n",
       "    </tr>\n",
       "    <tr>\n",
       "      <th>0</th>\n",
       "      <td>Steins;Gate</td>\n",
       "      <td>84.03%</td>\n",
       "      <td>Drama, Sci-Fi, Suspense</td>\n",
       "      <td>Eccentric scientist Rintarou Okabe has a never-ending thirst for scientific exploration. Together with his ditzy but well-meaning friend Mayuri Shiina and his roommate Itaru Hashida, Rintarou founds the Future Gadget Laboratory in the hopes of creating technological innovations that baffle the human psyche. Despite claims of grandeur, the only notable \"gadget\" the trio have created is a microwave that has the mystifying power to turn bananas into green goo.\\n\\nHowever, when Rintarou decides to attend neuroscientist Kurisu Makise's conference on time travel, he experiences a series of strange events that lead him to believe that there is more to the \"Phone Microwave\" gadget than meets the eye. Apparently able to send text messages into the past using the microwave, Rintarou dabbles further with the \"time machine,\" attracting the ire and attention of the mysterious organization SERN.\\n\\nDue to the novel discovery, Rintarou and his friends find themselves in an ever-present danger. As he works to mitigate the damage his invention has caused to the timeline, he is not only fighting a battle to save his loved ones, but also one against his degrading sanity.</td>\n",
       "    </tr>\n",
       "  </tbody>\n",
       "</table>\n",
       "</div>"
      ],
      "text/plain": [
       "                                  Name Similarity   \n",
       "4                           Your Name.     88.96%  \\\n",
       "3                       A Silent Voice     88.10%   \n",
       "2  Anohana: The Flower We Saw That Day     84.63%   \n",
       "1                               ERASED     84.62%   \n",
       "0                          Steins;Gate     84.03%   \n",
       "\n",
       "                               Genres   \n",
       "4  Award Winning, Drama, Supernatural  \\\n",
       "3                Award Winning, Drama   \n",
       "2                 Drama, Supernatural   \n",
       "1     Mystery, Supernatural, Suspense   \n",
       "0             Drama, Sci-Fi, Suspense   \n",
       "\n",
       "                                                                                                                                                                                                                                                                                                                                                                                                                                                                                                                                                                                                                                                                                                                                                                                                                                                                                                                                                                                                                                                                                                                                                                                                             Synopsis  \n",
       "4                                                                                                                                                                                                                                                                                                                                                         Mitsuha Miyamizu, a high school girl, yearns to live the life of a boy in the bustling city of Tokyo—a dream that stands in stark contrast to her present life in the countryside. Meanwhile in the city, Taki Tachibana lives a busy life as a high school student while juggling his part-time job and hopes for a future in architecture.\\n\\nOne day, Mitsuha awakens in a room that is not her own and suddenly finds herself living the dream life in Tokyo—but in Taki's body! Elsewhere, Taki finds himself living Mitsuha's life in the humble countryside. In pursuit of an answer to this strange phenomenon, they begin to search for one another.\\n\\nKimi no Na wa. revolves around Mitsuha and Taki's actions, which begin to have a dramatic impact on each other's lives, weaving them into a fabric held together by fate and circumstance.  \n",
       "3                                                                                                                                                                                                                                                 As a wild youth, elementary school student Shouya Ishida sought to beat boredom in the cruelest ways. When the deaf Shouko Nishimiya transfers into his class, Shouya and the rest of his class thoughtlessly bully her for fun. However, when her mother notifies the school, he is singled out and blamed for everything done to her. With Shouko transferring out of the school, Shouya is left at the mercy of his classmates. He is heartlessly ostracized all throughout elementary and middle school, while teachers turn a blind eye.\\n\\nNow in his third year of high school, Shouya is still plagued by his wrongdoings as a young boy. Sincerely regretting his past actions, he sets out on a journey of redemption: to meet Shouko once more and make amends.\\n\\nKoe no Katachi tells the heartwarming tale of Shouya's reunion with Shouko and his honest attempts to redeem himself, all while being continually haunted by the shadows of his past.  \n",
       "2                                                                                                                                                                                                                                                                                                                                                                                                Jinta Yadomi is peacefully living as a recluse, spending his days away from school and playing video games at home instead. One hot summer day, his childhood friend, Meiko \"Menma\" Honma, appears and pesters him to grant a forgotten wish. He pays her no mind, which annoys her, but he doesn't really care. After all, Menma already died years ago.\\n\\nAt first, Jinta thinks that he is merely hallucinating due to the summer heat, but he is later on convinced that what he sees truly is the ghost of Menma. Jinta and his group of childhood friends grew apart after her untimely death, but they are drawn together once more as they try to lay Menma's spirit to rest. Re-living their pain and guilt, will they be able to find the strength to help not only Menma move on—but themselves as well?  \n",
       "1                                                                                                                                                                                                                                                                                                                            When tragedy is about to strike, Satoru Fujinuma finds himself sent back several minutes before the accident occurs. The detached, 29-year-old manga artist has taken advantage of this powerful yet mysterious phenomenon, which he calls \"Revival,\" to save many lives.\\n \\nHowever, when he is wrongfully accused of murdering someone close to him, Satoru is sent back to the past once again, but this time to 1988, 18 years in the past. Soon, he realizes that the murder may be connected to the abduction and killing of one of his classmates, the solitary and mysterious Kayo Hinazuki, that took place when he was a child. This is his chance to make things right.\\n \\nBoku dake ga Inai Machi follows Satoru in his mission to uncover what truly transpired 18 years ago and prevent the death of his classmate while protecting those he cares about in the present.  \n",
       "0  Eccentric scientist Rintarou Okabe has a never-ending thirst for scientific exploration. Together with his ditzy but well-meaning friend Mayuri Shiina and his roommate Itaru Hashida, Rintarou founds the Future Gadget Laboratory in the hopes of creating technological innovations that baffle the human psyche. Despite claims of grandeur, the only notable \"gadget\" the trio have created is a microwave that has the mystifying power to turn bananas into green goo.\\n\\nHowever, when Rintarou decides to attend neuroscientist Kurisu Makise's conference on time travel, he experiences a series of strange events that lead him to believe that there is more to the \"Phone Microwave\" gadget than meets the eye. Apparently able to send text messages into the past using the microwave, Rintarou dabbles further with the \"time machine,\" attracting the ire and attention of the mysterious organization SERN.\\n\\nDue to the novel discovery, Rintarou and his friends find themselves in an ever-present danger. As he works to mitigate the damage his invention has caused to the timeline, he is not only fighting a battle to save his loved ones, but also one against his degrading sanity.  "
      ]
     },
     "execution_count": 21,
     "metadata": {},
     "output_type": "execute_result"
    }
   ],
   "source": [
    "find_similar_animes('Shigatsu wa Kimi no Uso', n=5, neg=False) # Your Lie in April"
   ]
  },
  {
   "cell_type": "code",
   "execution_count": 22,
   "id": "c64945df",
   "metadata": {
    "execution": {
     "iopub.execute_input": "2023-07-28T06:12:14.169241Z",
     "iopub.status.busy": "2023-07-28T06:12:14.168878Z",
     "iopub.status.idle": "2023-07-28T06:12:14.217623Z",
     "shell.execute_reply": "2023-07-28T06:12:14.215514Z"
    },
    "papermill": {
     "duration": 0.158074,
     "end_time": "2023-07-28T06:12:14.222417",
     "exception": false,
     "start_time": "2023-07-28T06:12:14.064343",
     "status": "completed"
    },
    "tags": []
   },
   "outputs": [
    {
     "name": "stdout",
     "output_type": "stream",
     "text": [
      "Animes closest to One Punch Man\n"
     ]
    },
    {
     "data": {
      "text/html": [
       "<div>\n",
       "<style scoped>\n",
       "    .dataframe tbody tr th:only-of-type {\n",
       "        vertical-align: middle;\n",
       "    }\n",
       "\n",
       "    .dataframe tbody tr th {\n",
       "        vertical-align: top;\n",
       "    }\n",
       "\n",
       "    .dataframe thead th {\n",
       "        text-align: right;\n",
       "    }\n",
       "</style>\n",
       "<table border=\"1\" class=\"dataframe\">\n",
       "  <thead>\n",
       "    <tr style=\"text-align: right;\">\n",
       "      <th></th>\n",
       "      <th>Name</th>\n",
       "      <th>Similarity</th>\n",
       "      <th>Genres</th>\n",
       "      <th>Synopsis</th>\n",
       "    </tr>\n",
       "  </thead>\n",
       "  <tbody>\n",
       "    <tr>\n",
       "      <th>4</th>\n",
       "      <td>Hunter x Hunter</td>\n",
       "      <td>84.42%</td>\n",
       "      <td>Action, Adventure, Fantasy</td>\n",
       "      <td>Hunters devote themselves to accomplishing hazardous tasks, all from traversing the world's uncharted territories to locating rare items and monsters. Before becoming a Hunter, one must pass the Hunter Examination—a high-risk selection process in which most applicants end up handicapped or worse, deceased.\\n\\nAmbitious participants who challenge the notorious exam carry their own reason. What drives 12-year-old Gon Freecss is finding Ging, his father and a Hunter himself. Believing that he will meet his father by becoming a Hunter, Gon takes the first step to walk the same path.\\n\\nDuring the Hunter Examination, Gon befriends the medical student Leorio Paladiknight, the vindictive Kurapika, and ex-assassin Killua Zoldyck. While their motives vastly differ from each other, they band together for a common goal and begin to venture into a perilous world.</td>\n",
       "    </tr>\n",
       "    <tr>\n",
       "      <th>3</th>\n",
       "      <td>Gintama: The Movie: The Final Chapter: Be Forever Yorozuya</td>\n",
       "      <td>82.01%</td>\n",
       "      <td>Action, Comedy, Sci-Fi</td>\n",
       "      <td>When Gintoki apprehends a movie pirate at a premiere, he checks the camera's footage and finds himself transported to a bleak, post-apocalyptic version of Edo, where a mysterious epidemic called the \"White Plague\" has ravished the world's population. It turns out that the movie pirate wasn't a pirate after all—it was an android time machine, and Gintoki has been hurtled five years into the future! Shinpachi and Kagura, his Yorozuya cohorts, have had a falling out and are now battle-hardened solo vigilantes and he himself has been missing for years, disappearing without a trace after scribbling a strange message in his journal.\\n\\nSetting out in the disguise given to him by the android time machine, Gintoki haphazardly reunites the Yorozuya team to investigate the White Plague, and soon discovers that the key to saving the future lies in the darkness of his own past. Determined to confront a powerful foe, he makes an important discovery—with a ragtag band of friends and allies at his side, he doesn't have to fight alone.</td>\n",
       "    </tr>\n",
       "    <tr>\n",
       "      <th>2</th>\n",
       "      <td>Steins;Gate</td>\n",
       "      <td>81.36%</td>\n",
       "      <td>Drama, Sci-Fi, Suspense</td>\n",
       "      <td>Eccentric scientist Rintarou Okabe has a never-ending thirst for scientific exploration. Together with his ditzy but well-meaning friend Mayuri Shiina and his roommate Itaru Hashida, Rintarou founds the Future Gadget Laboratory in the hopes of creating technological innovations that baffle the human psyche. Despite claims of grandeur, the only notable \"gadget\" the trio have created is a microwave that has the mystifying power to turn bananas into green goo.\\n\\nHowever, when Rintarou decides to attend neuroscientist Kurisu Makise's conference on time travel, he experiences a series of strange events that lead him to believe that there is more to the \"Phone Microwave\" gadget than meets the eye. Apparently able to send text messages into the past using the microwave, Rintarou dabbles further with the \"time machine,\" attracting the ire and attention of the mysterious organization SERN.\\n\\nDue to the novel discovery, Rintarou and his friends find themselves in an ever-present danger. As he works to mitigate the damage his invention has caused to the timeline, he is not only fighting a battle to save his loved ones, but also one against his degrading sanity.</td>\n",
       "    </tr>\n",
       "    <tr>\n",
       "      <th>1</th>\n",
       "      <td>Gintama Season 5</td>\n",
       "      <td>81.08%</td>\n",
       "      <td>Action, Comedy, Sci-Fi</td>\n",
       "      <td>After joining the resistance against the bakufu, Gintoki and the gang are in hiding, along with Katsura and his Joui rebels. The Yorozuya is soon approached by Nobume Imai and two members of the Kiheitai, who explain that the Harusame pirates have turned against 7th Division Captain Kamui and their former ally Takasugi. The Kiheitai present Gintoki with a job: find Takasugi, who has been missing since his ship was ambushed in a Harusame raid. Nobume also makes a stunning revelation regarding the Tendoushuu, a secret organization pulling the strings of numerous factions, and their leader Utsuro, the shadowy figure with an uncanny resemblance to Gintoki's former teacher.\\n\\nHitching a ride on Sakamoto's space ship, the Yorozuya and Katsura set out for Rakuyou, Kagura's home planet, where the various factions have gathered and tensions are brewing. Long-held grudges, political infighting, and the Tendoushuu's sinister overarching plan finally culminate into a massive, decisive battle on Rakuyou.</td>\n",
       "    </tr>\n",
       "    <tr>\n",
       "      <th>0</th>\n",
       "      <td>Gintama: Enchousen</td>\n",
       "      <td>80.83%</td>\n",
       "      <td>Action, Comedy, Sci-Fi</td>\n",
       "      <td>While Gintoki Sakata was away, the Yorozuya found themselves a new leader: Kintoki, Gintoki's golden-haired doppelganger. In order to regain his former position, Gintoki will need the help of those around him, a troubling feat when no one can remember him! Between Kintoki and Gintoki, who will claim the throne as the main character?\\n\\nIn addition, Yorozuya make a trip back down to red-light district of Yoshiwara to aid an elderly courtesan in her search for her long-lost lover. Although the district is no longer in chains beneath the earth's surface, the trio soon learn of the tragic backstories of Yoshiwara's inhabitants that still haunt them. With flashback after flashback, this quest has Yorozuya witnessing everlasting love and protecting it as best they can with their hearts and souls.</td>\n",
       "    </tr>\n",
       "  </tbody>\n",
       "</table>\n",
       "</div>"
      ],
      "text/plain": [
       "                                                         Name Similarity   \n",
       "4                                             Hunter x Hunter     84.42%  \\\n",
       "3  Gintama: The Movie: The Final Chapter: Be Forever Yorozuya     82.01%   \n",
       "2                                                 Steins;Gate     81.36%   \n",
       "1                                            Gintama Season 5     81.08%   \n",
       "0                                          Gintama: Enchousen     80.83%   \n",
       "\n",
       "                       Genres   \n",
       "4  Action, Adventure, Fantasy  \\\n",
       "3      Action, Comedy, Sci-Fi   \n",
       "2     Drama, Sci-Fi, Suspense   \n",
       "1      Action, Comedy, Sci-Fi   \n",
       "0      Action, Comedy, Sci-Fi   \n",
       "\n",
       "                                                                                                                                                                                                                                                                                                                                                                                                                                                                                                                                                                                                                                                                                                                                                                                                                                                                                                                                                                                                                                                                                                                                                                                                             Synopsis  \n",
       "4                                                                                                                                                                                                                                                                                                                     Hunters devote themselves to accomplishing hazardous tasks, all from traversing the world's uncharted territories to locating rare items and monsters. Before becoming a Hunter, one must pass the Hunter Examination—a high-risk selection process in which most applicants end up handicapped or worse, deceased.\\n\\nAmbitious participants who challenge the notorious exam carry their own reason. What drives 12-year-old Gon Freecss is finding Ging, his father and a Hunter himself. Believing that he will meet his father by becoming a Hunter, Gon takes the first step to walk the same path.\\n\\nDuring the Hunter Examination, Gon befriends the medical student Leorio Paladiknight, the vindictive Kurapika, and ex-assassin Killua Zoldyck. While their motives vastly differ from each other, they band together for a common goal and begin to venture into a perilous world.  \n",
       "3                                                                                                                                         When Gintoki apprehends a movie pirate at a premiere, he checks the camera's footage and finds himself transported to a bleak, post-apocalyptic version of Edo, where a mysterious epidemic called the \"White Plague\" has ravished the world's population. It turns out that the movie pirate wasn't a pirate after all—it was an android time machine, and Gintoki has been hurtled five years into the future! Shinpachi and Kagura, his Yorozuya cohorts, have had a falling out and are now battle-hardened solo vigilantes and he himself has been missing for years, disappearing without a trace after scribbling a strange message in his journal.\\n\\nSetting out in the disguise given to him by the android time machine, Gintoki haphazardly reunites the Yorozuya team to investigate the White Plague, and soon discovers that the key to saving the future lies in the darkness of his own past. Determined to confront a powerful foe, he makes an important discovery—with a ragtag band of friends and allies at his side, he doesn't have to fight alone.  \n",
       "2  Eccentric scientist Rintarou Okabe has a never-ending thirst for scientific exploration. Together with his ditzy but well-meaning friend Mayuri Shiina and his roommate Itaru Hashida, Rintarou founds the Future Gadget Laboratory in the hopes of creating technological innovations that baffle the human psyche. Despite claims of grandeur, the only notable \"gadget\" the trio have created is a microwave that has the mystifying power to turn bananas into green goo.\\n\\nHowever, when Rintarou decides to attend neuroscientist Kurisu Makise's conference on time travel, he experiences a series of strange events that lead him to believe that there is more to the \"Phone Microwave\" gadget than meets the eye. Apparently able to send text messages into the past using the microwave, Rintarou dabbles further with the \"time machine,\" attracting the ire and attention of the mysterious organization SERN.\\n\\nDue to the novel discovery, Rintarou and his friends find themselves in an ever-present danger. As he works to mitigate the damage his invention has caused to the timeline, he is not only fighting a battle to save his loved ones, but also one against his degrading sanity.  \n",
       "1                                                                                                                                                                     After joining the resistance against the bakufu, Gintoki and the gang are in hiding, along with Katsura and his Joui rebels. The Yorozuya is soon approached by Nobume Imai and two members of the Kiheitai, who explain that the Harusame pirates have turned against 7th Division Captain Kamui and their former ally Takasugi. The Kiheitai present Gintoki with a job: find Takasugi, who has been missing since his ship was ambushed in a Harusame raid. Nobume also makes a stunning revelation regarding the Tendoushuu, a secret organization pulling the strings of numerous factions, and their leader Utsuro, the shadowy figure with an uncanny resemblance to Gintoki's former teacher.\\n\\nHitching a ride on Sakamoto's space ship, the Yorozuya and Katsura set out for Rakuyou, Kagura's home planet, where the various factions have gathered and tensions are brewing. Long-held grudges, political infighting, and the Tendoushuu's sinister overarching plan finally culminate into a massive, decisive battle on Rakuyou.  \n",
       "0                                                                                                                                                                                                                                                                                                                                                                                   While Gintoki Sakata was away, the Yorozuya found themselves a new leader: Kintoki, Gintoki's golden-haired doppelganger. In order to regain his former position, Gintoki will need the help of those around him, a troubling feat when no one can remember him! Between Kintoki and Gintoki, who will claim the throne as the main character?\\n\\nIn addition, Yorozuya make a trip back down to red-light district of Yoshiwara to aid an elderly courtesan in her search for her long-lost lover. Although the district is no longer in chains beneath the earth's surface, the trio soon learn of the tragic backstories of Yoshiwara's inhabitants that still haunt them. With flashback after flashback, this quest has Yorozuya witnessing everlasting love and protecting it as best they can with their hearts and souls.  "
      ]
     },
     "execution_count": 22,
     "metadata": {},
     "output_type": "execute_result"
    }
   ],
   "source": [
    "find_similar_animes('One Punch Man', n=5, neg=False)"
   ]
  },
  {
   "cell_type": "code",
   "execution_count": 23,
   "id": "fdc3434f",
   "metadata": {
    "execution": {
     "iopub.execute_input": "2023-07-28T06:12:14.489211Z",
     "iopub.status.busy": "2023-07-28T06:12:14.488319Z",
     "iopub.status.idle": "2023-07-28T06:12:14.537774Z",
     "shell.execute_reply": "2023-07-28T06:12:14.535625Z"
    },
    "papermill": {
     "duration": 0.159066,
     "end_time": "2023-07-28T06:12:14.542506",
     "exception": false,
     "start_time": "2023-07-28T06:12:14.383440",
     "status": "completed"
    },
    "tags": []
   },
   "outputs": [
    {
     "name": "stdout",
     "output_type": "stream",
     "text": [
      "Animes closest to Mushoku Tensei: Isekai Ittara Honki Dasu\n"
     ]
    },
    {
     "data": {
      "text/html": [
       "<div>\n",
       "<style scoped>\n",
       "    .dataframe tbody tr th:only-of-type {\n",
       "        vertical-align: middle;\n",
       "    }\n",
       "\n",
       "    .dataframe tbody tr th {\n",
       "        vertical-align: top;\n",
       "    }\n",
       "\n",
       "    .dataframe thead th {\n",
       "        text-align: right;\n",
       "    }\n",
       "</style>\n",
       "<table border=\"1\" class=\"dataframe\">\n",
       "  <thead>\n",
       "    <tr style=\"text-align: right;\">\n",
       "      <th></th>\n",
       "      <th>Name</th>\n",
       "      <th>Similarity</th>\n",
       "      <th>Genres</th>\n",
       "      <th>Synopsis</th>\n",
       "    </tr>\n",
       "  </thead>\n",
       "  <tbody>\n",
       "    <tr>\n",
       "      <th>4</th>\n",
       "      <td>Mushoku Tensei: Jobless Reincarnation Part 2</td>\n",
       "      <td>91.07%</td>\n",
       "      <td>Drama, Fantasy, Ecchi</td>\n",
       "      <td>After the mysterious mana calamity, Rudeus Greyrat and his fierce student Eris Boreas Greyrat are teleported to the Demon Continent. There, they team up with their newfound companion Ruijerd Supardia—the former leader of the Superd's Warrior group—to form \"Dead End,\" a successful adventurer party. Making a name for themselves, the trio journeys across the continent to make their way back home to Fittoa.\\n\\nFollowing the advice he received from the faceless god Hitogami, Rudeus saves Kishirika Kishirisu, the Great Emperor of the Demon World, who rewards him by granting him a strange power. Now, as Rudeus masters the powerful ability that offers a number of new opportunities, it might prove to be more than what he bargained for when unexpected dangers threaten to hinder their travels.</td>\n",
       "    </tr>\n",
       "    <tr>\n",
       "      <th>3</th>\n",
       "      <td>[Oshi No Ko]</td>\n",
       "      <td>69.33%</td>\n",
       "      <td>Drama, Supernatural</td>\n",
       "      <td>In the entertainment world, celebrities often show exaggerated versions of themselves to the public, concealing their true thoughts and struggles beneath elaborate lies. Fans buy into these fabrications, showering their idols with undying love and support, until something breaks the illusion. Sixteen-year-old rising star Ai Hoshino of pop idol group B Komachi has the world captivated; however, when she announces a hiatus due to health concerns, the news causes many to become worried.\\n\\nAs a huge fan of Ai, gynecologist Gorou Amemiya cheers her on from his countryside medical practice, wishing he could meet her in person one day. His wish comes true when Ai shows up at his hospital—not sick, but pregnant with twins! While the doctor promises Ai to safely deliver her children, he wonders if this encounter with the idol will forever change the nature of his relationship with her.</td>\n",
       "    </tr>\n",
       "    <tr>\n",
       "      <th>2</th>\n",
       "      <td>Demon Slayer: Kimetsu no Yaiba Entertainment District Arc</td>\n",
       "      <td>67.65%</td>\n",
       "      <td>Action, Fantasy</td>\n",
       "      <td>The devastation of the Mugen Train incident still weighs heavily on the members of the Demon Slayer Corps. Despite being given time to recover, life must go on, as the wicked never sleep: a vicious demon is terrorizing the alluring women of the Yoshiwara Entertainment District. The Sound Pillar, Tengen Uzui, and his three wives are on the case. However, when he soon loses contact with his spouses, Tengen fears the worst and enlists the help of Tanjirou Kamado, Zenitsu Agatsuma, and Inosuke Hashibira to infiltrate the district's most prominent houses and locate the depraved Upper Rank demon.</td>\n",
       "    </tr>\n",
       "    <tr>\n",
       "      <th>1</th>\n",
       "      <td>Fate/stay night: Heaven's Feel - II. Lost Butterfly</td>\n",
       "      <td>66.19%</td>\n",
       "      <td>Action, Fantasy, Supernatural</td>\n",
       "      <td>The Fifth Holy Grail War continues, and the ensuing chaos results in higher stakes for all participants. Shirou Emiya continues to participate in the war, aspiring to be a hero of justice who saves everyone. He sets out in search of the truth behind a mysterious dark shadow and its murder spree, determined to defeat it.\\n\\nMeanwhile, Shinji Matou sets his own plans into motion, threatening Shirou through his sister Sakura Matou. Shirou and Rin Toosaka battle Shinji, hoping to relieve Sakura from the abuses of her brother. But the ugly truth of the Matou siblings begins to surface, and many dark secrets are exposed.\\n\\nFate/stay night Movie: Heaven's Feel - II. Lost Butterfly continues to focus on the remaining Masters and Servants as they fight each other in the hopes of obtaining the Holy Grail. However, as darkness arises within Fuyuki City, even the state of their sacred war could be in danger.</td>\n",
       "    </tr>\n",
       "    <tr>\n",
       "      <th>0</th>\n",
       "      <td>A Silent Voice</td>\n",
       "      <td>65.83%</td>\n",
       "      <td>Award Winning, Drama</td>\n",
       "      <td>As a wild youth, elementary school student Shouya Ishida sought to beat boredom in the cruelest ways. When the deaf Shouko Nishimiya transfers into his class, Shouya and the rest of his class thoughtlessly bully her for fun. However, when her mother notifies the school, he is singled out and blamed for everything done to her. With Shouko transferring out of the school, Shouya is left at the mercy of his classmates. He is heartlessly ostracized all throughout elementary and middle school, while teachers turn a blind eye.\\n\\nNow in his third year of high school, Shouya is still plagued by his wrongdoings as a young boy. Sincerely regretting his past actions, he sets out on a journey of redemption: to meet Shouko once more and make amends.\\n\\nKoe no Katachi tells the heartwarming tale of Shouya's reunion with Shouko and his honest attempts to redeem himself, all while being continually haunted by the shadows of his past.</td>\n",
       "    </tr>\n",
       "  </tbody>\n",
       "</table>\n",
       "</div>"
      ],
      "text/plain": [
       "                                                        Name Similarity   \n",
       "4               Mushoku Tensei: Jobless Reincarnation Part 2     91.07%  \\\n",
       "3                                               [Oshi No Ko]     69.33%   \n",
       "2  Demon Slayer: Kimetsu no Yaiba Entertainment District Arc     67.65%   \n",
       "1        Fate/stay night: Heaven's Feel - II. Lost Butterfly     66.19%   \n",
       "0                                             A Silent Voice     65.83%   \n",
       "\n",
       "                          Genres   \n",
       "4          Drama, Fantasy, Ecchi  \\\n",
       "3            Drama, Supernatural   \n",
       "2                Action, Fantasy   \n",
       "1  Action, Fantasy, Supernatural   \n",
       "0           Award Winning, Drama   \n",
       "\n",
       "                                                                                                                                                                                                                                                                                                                                                                                                                                                                                                                                                                                                                                                                                                                                                                                                                                                                                                                                                              Synopsis  \n",
       "4                                                                                                                                            After the mysterious mana calamity, Rudeus Greyrat and his fierce student Eris Boreas Greyrat are teleported to the Demon Continent. There, they team up with their newfound companion Ruijerd Supardia—the former leader of the Superd's Warrior group—to form \"Dead End,\" a successful adventurer party. Making a name for themselves, the trio journeys across the continent to make their way back home to Fittoa.\\n\\nFollowing the advice he received from the faceless god Hitogami, Rudeus saves Kishirika Kishirisu, the Great Emperor of the Demon World, who rewards him by granting him a strange power. Now, as Rudeus masters the powerful ability that offers a number of new opportunities, it might prove to be more than what he bargained for when unexpected dangers threaten to hinder their travels.  \n",
       "3                                           In the entertainment world, celebrities often show exaggerated versions of themselves to the public, concealing their true thoughts and struggles beneath elaborate lies. Fans buy into these fabrications, showering their idols with undying love and support, until something breaks the illusion. Sixteen-year-old rising star Ai Hoshino of pop idol group B Komachi has the world captivated; however, when she announces a hiatus due to health concerns, the news causes many to become worried.\\n\\nAs a huge fan of Ai, gynecologist Gorou Amemiya cheers her on from his countryside medical practice, wishing he could meet her in person one day. His wish comes true when Ai shows up at his hospital—not sick, but pregnant with twins! While the doctor promises Ai to safely deliver her children, he wonders if this encounter with the idol will forever change the nature of his relationship with her.  \n",
       "2                                                                                                                                                                                                                                                                                                                                                The devastation of the Mugen Train incident still weighs heavily on the members of the Demon Slayer Corps. Despite being given time to recover, life must go on, as the wicked never sleep: a vicious demon is terrorizing the alluring women of the Yoshiwara Entertainment District. The Sound Pillar, Tengen Uzui, and his three wives are on the case. However, when he soon loses contact with his spouses, Tengen fears the worst and enlists the help of Tanjirou Kamado, Zenitsu Agatsuma, and Inosuke Hashibira to infiltrate the district's most prominent houses and locate the depraved Upper Rank demon.  \n",
       "1                       The Fifth Holy Grail War continues, and the ensuing chaos results in higher stakes for all participants. Shirou Emiya continues to participate in the war, aspiring to be a hero of justice who saves everyone. He sets out in search of the truth behind a mysterious dark shadow and its murder spree, determined to defeat it.\\n\\nMeanwhile, Shinji Matou sets his own plans into motion, threatening Shirou through his sister Sakura Matou. Shirou and Rin Toosaka battle Shinji, hoping to relieve Sakura from the abuses of her brother. But the ugly truth of the Matou siblings begins to surface, and many dark secrets are exposed.\\n\\nFate/stay night Movie: Heaven's Feel - II. Lost Butterfly continues to focus on the remaining Masters and Servants as they fight each other in the hopes of obtaining the Holy Grail. However, as darkness arises within Fuyuki City, even the state of their sacred war could be in danger.  \n",
       "0  As a wild youth, elementary school student Shouya Ishida sought to beat boredom in the cruelest ways. When the deaf Shouko Nishimiya transfers into his class, Shouya and the rest of his class thoughtlessly bully her for fun. However, when her mother notifies the school, he is singled out and blamed for everything done to her. With Shouko transferring out of the school, Shouya is left at the mercy of his classmates. He is heartlessly ostracized all throughout elementary and middle school, while teachers turn a blind eye.\\n\\nNow in his third year of high school, Shouya is still plagued by his wrongdoings as a young boy. Sincerely regretting his past actions, he sets out on a journey of redemption: to meet Shouko once more and make amends.\\n\\nKoe no Katachi tells the heartwarming tale of Shouya's reunion with Shouko and his honest attempts to redeem himself, all while being continually haunted by the shadows of his past.  "
      ]
     },
     "execution_count": 23,
     "metadata": {},
     "output_type": "execute_result"
    }
   ],
   "source": [
    "find_similar_animes('Mushoku Tensei: Isekai Ittara Honki Dasu', n=5, neg=False)"
   ]
  },
  {
   "cell_type": "markdown",
   "id": "4857bb00",
   "metadata": {
    "papermill": {
     "duration": 0.103728,
     "end_time": "2023-07-28T06:12:14.806423",
     "exception": false,
     "start_time": "2023-07-28T06:12:14.702695",
     "status": "completed"
    },
    "tags": []
   },
   "source": [
    "# 2: User Based Recommendation\n",
    "#### (The user-based recommendation system is divided into three parts:)"
   ]
  },
  {
   "cell_type": "markdown",
   "id": "6a43717d",
   "metadata": {
    "papermill": {
     "duration": 0.110295,
     "end_time": "2023-07-28T06:12:15.023132",
     "exception": false,
     "start_time": "2023-07-28T06:12:14.912837",
     "status": "completed"
    },
    "tags": []
   },
   "source": [
    "## Part 1: Finding Similar Users\n",
    "#### In this part, we randomly select a user from the dataset and find similar users based on their anime preferences. The find_similar_users function calculates the similarity between users using a weighted matrix and returns a dataframe of similar users. The function takes an input user, number of similar users to find (n), and other optional parameters. The result is a list of similar users to the input user."
   ]
  },
  {
   "cell_type": "code",
   "execution_count": 24,
   "id": "60f58f0d",
   "metadata": {
    "execution": {
     "iopub.execute_input": "2023-07-28T06:12:15.235240Z",
     "iopub.status.busy": "2023-07-28T06:12:15.234275Z",
     "iopub.status.idle": "2023-07-28T06:12:15.244967Z",
     "shell.execute_reply": "2023-07-28T06:12:15.243814Z"
    },
    "papermill": {
     "duration": 0.119567,
     "end_time": "2023-07-28T06:12:15.247199",
     "exception": false,
     "start_time": "2023-07-28T06:12:15.127632",
     "status": "completed"
    },
    "tags": []
   },
   "outputs": [],
   "source": [
    "def find_similar_users(item_input, n=10, return_dist=False, neg=False):\n",
    "    try:\n",
    "        index = item_input\n",
    "        encoded_index = user_encoder.transform([index])[0]\n",
    "        weights = user_weights\n",
    "        dists = np.dot(weights, weights[encoded_index])\n",
    "        sorted_dists = np.argsort(dists)\n",
    "        n = n + 1\n",
    "        \n",
    "        if neg:\n",
    "            closest = sorted_dists[:n]\n",
    "        else:\n",
    "            closest = sorted_dists[-n:]\n",
    "            \n",
    "        SimilarityArr = []\n",
    "        \n",
    "        for close in closest:\n",
    "            similarity = dists[close]\n",
    "            if isinstance(item_input, int):\n",
    "                decoded_id = user_encoder.inverse_transform([close])[0]\n",
    "                SimilarityArr.append({\"similar_users\": decoded_id, \"similarity\": similarity})\n",
    "        Frame = pd.DataFrame(SimilarityArr).sort_values(by=\"similarity\", ascending=False)\n",
    "        return Frame\n",
    "    except:\n",
    "        print('\\033[1m{}\\033[0m, Not Found in User list'.format(item_input))"
   ]
  },
  {
   "cell_type": "code",
   "execution_count": 25,
   "id": "8d2926d3",
   "metadata": {
    "execution": {
     "iopub.execute_input": "2023-07-28T06:12:15.510666Z",
     "iopub.status.busy": "2023-07-28T06:12:15.510241Z",
     "iopub.status.idle": "2023-07-28T06:12:16.651497Z",
     "shell.execute_reply": "2023-07-28T06:12:16.650124Z"
    },
    "papermill": {
     "duration": 1.297559,
     "end_time": "2023-07-28T06:12:16.653733",
     "exception": false,
     "start_time": "2023-07-28T06:12:15.356174",
     "status": "completed"
    },
    "tags": []
   },
   "outputs": [
    {
     "data": {
      "text/html": [
       "<div>\n",
       "<style scoped>\n",
       "    .dataframe tbody tr th:only-of-type {\n",
       "        vertical-align: middle;\n",
       "    }\n",
       "\n",
       "    .dataframe tbody tr th {\n",
       "        vertical-align: top;\n",
       "    }\n",
       "\n",
       "    .dataframe thead th {\n",
       "        text-align: right;\n",
       "    }\n",
       "</style>\n",
       "<table border=\"1\" class=\"dataframe\">\n",
       "  <thead>\n",
       "    <tr style=\"text-align: right;\">\n",
       "      <th></th>\n",
       "      <th>similar_users</th>\n",
       "      <th>similarity</th>\n",
       "    </tr>\n",
       "  </thead>\n",
       "  <tbody>\n",
       "    <tr>\n",
       "      <th>9</th>\n",
       "      <td>1120701</td>\n",
       "      <td>0.415955</td>\n",
       "    </tr>\n",
       "  </tbody>\n",
       "</table>\n",
       "</div>"
      ],
      "text/plain": [
       "   similar_users  similarity\n",
       "9        1120701    0.415955"
      ]
     },
     "execution_count": 25,
     "metadata": {},
     "output_type": "execute_result"
    }
   ],
   "source": [
    "# Select a random user\n",
    "ratings_per_user = df.groupby('user_id').size()\n",
    "random_user = int(ratings_per_user[ratings_per_user < 500].sample(1, random_state=None).index[0])\n",
    "\n",
    "# Find similar users to the random user\n",
    "similar_users = find_similar_users(random_user, n=10, neg=False)\n",
    "similar_users = similar_users[similar_users.similarity > 0.4]\n",
    "similar_users = similar_users[similar_users.similar_users != random_user]\n",
    "similar_users"
   ]
  },
  {
   "cell_type": "markdown",
   "id": "c5103ab1",
   "metadata": {
    "papermill": {
     "duration": 0.104311,
     "end_time": "2023-07-28T06:12:16.874584",
     "exception": false,
     "start_time": "2023-07-28T06:12:16.770273",
     "status": "completed"
    },
    "tags": []
   },
   "source": [
    "## Part 2: User Preferences\n",
    "#### This part focuses on understanding the preferences of the selected user. The get_user_preferences function takes a user ID as input and retrieves the anime preferences of that user. It considers the top-rated animes by the user and analyzes the genres they prefer. The function also provides an option to plot a word cloud to visualize the preferred genres. The output is a dataframe containing the anime titles and their associated genres."
   ]
  },
  {
   "cell_type": "code",
   "execution_count": 26,
   "id": "65119377",
   "metadata": {
    "execution": {
     "iopub.execute_input": "2023-07-28T06:12:17.084857Z",
     "iopub.status.busy": "2023-07-28T06:12:17.083899Z",
     "iopub.status.idle": "2023-07-28T06:12:17.097154Z",
     "shell.execute_reply": "2023-07-28T06:12:17.095984Z"
    },
    "papermill": {
     "duration": 0.121015,
     "end_time": "2023-07-28T06:12:17.099493",
     "exception": false,
     "start_time": "2023-07-28T06:12:16.978478",
     "status": "completed"
    },
    "tags": []
   },
   "outputs": [],
   "source": [
    "# Function to display a word cloud of preferred genres\n",
    "def showWordCloud(all_genres):\n",
    "    genres_cloud = WordCloud(width=700, height=400, background_color='white', colormap='gnuplot').generate_from_frequencies(all_genres)\n",
    "    plt.figure(figsize=(10, 8))\n",
    "    plt.imshow(genres_cloud, interpolation='bilinear')\n",
    "    plt.axis('off')\n",
    "    plt.show()\n",
    "\n",
    "def get_user_preferences(user_id, plot=False, verbose=0):\n",
    "    animes_watched_by_user = df[df['user_id'] == user_id]\n",
    "    \n",
    "    if animes_watched_by_user.empty:\n",
    "        print(\"User #{} has not watched any animes.\".format(user_id))\n",
    "        return pd.DataFrame()\n",
    "    \n",
    "    user_rating_percentile = np.percentile(animes_watched_by_user.rating, 75)\n",
    "    animes_watched_by_user = animes_watched_by_user[animes_watched_by_user.rating >= user_rating_percentile]\n",
    "    top_animes_user = (\n",
    "        animes_watched_by_user.sort_values(by=\"rating\", ascending=False)\n",
    "        .anime_id.values\n",
    "    )\n",
    "    \n",
    "    anime_df_rows = df_anime[df_anime[\"anime_id\"].isin(top_animes_user)]\n",
    "    anime_df_rows = anime_df_rows[[\"Name\", \"Genres\"]]\n",
    "    \n",
    "    if verbose != 0:\n",
    "        print(\"User \\033[1m{}\\033[0m has watched {} anime(s) with an average rating of {:.1f}/10\\n\".format(\n",
    "            user_id, len(animes_watched_by_user), animes_watched_by_user['rating'].mean()\n",
    "        ))\n",
    "        print('\\033[1m----- Preferred genres----- \\033[0m\\n')\n",
    "\n",
    "    if plot:\n",
    "        genres_list = []\n",
    "        for genres in anime_df_rows['Genres']:\n",
    "            if isinstance(genres, str):\n",
    "                for genre in genres.split(','):\n",
    "                    genres_list.append(genre.strip())\n",
    "\n",
    "        showWordCloud(dict(Counter(genres_list)))\n",
    "    \n",
    "    return anime_df_rows"
   ]
  },
  {
   "cell_type": "code",
   "execution_count": 27,
   "id": "b29b4af1",
   "metadata": {
    "execution": {
     "iopub.execute_input": "2023-07-28T06:12:17.308099Z",
     "iopub.status.busy": "2023-07-28T06:12:17.307751Z",
     "iopub.status.idle": "2023-07-28T06:12:17.722347Z",
     "shell.execute_reply": "2023-07-28T06:12:17.720907Z"
    },
    "papermill": {
     "duration": 0.521516,
     "end_time": "2023-07-28T06:12:17.724454",
     "exception": false,
     "start_time": "2023-07-28T06:12:17.202938",
     "status": "completed"
    },
    "tags": []
   },
   "outputs": [
    {
     "name": "stdout",
     "output_type": "stream",
     "text": [
      "User \u001b[1m113945\u001b[0m has watched 161 anime(s) with an average rating of 7.5/10\n",
      "\n",
      "\u001b[1m----- Preferred genres----- \u001b[0m\n",
      "\n"
     ]
    },
    {
     "data": {
      "image/png": "[encoded data removed]",
      "text/plain": [
       "<Figure size 1000x800 with 1 Axes>"
      ]
     },
     "metadata": {},
     "output_type": "display_data"
    },
    {
     "data": {
      "text/html": [
       "<div>\n",
       "<style scoped>\n",
       "    .dataframe tbody tr th:only-of-type {\n",
       "        vertical-align: middle;\n",
       "    }\n",
       "\n",
       "    .dataframe tbody tr th {\n",
       "        vertical-align: top;\n",
       "    }\n",
       "\n",
       "    .dataframe thead th {\n",
       "        text-align: right;\n",
       "    }\n",
       "</style>\n",
       "<table border=\"1\" class=\"dataframe\">\n",
       "  <thead>\n",
       "    <tr style=\"text-align: right;\">\n",
       "      <th></th>\n",
       "      <th>Name</th>\n",
       "      <th>Genres</th>\n",
       "    </tr>\n",
       "  </thead>\n",
       "  <tbody>\n",
       "    <tr>\n",
       "      <th>14</th>\n",
       "      <td>School Rumble</td>\n",
       "      <td>Comedy, Romance</td>\n",
       "    </tr>\n",
       "    <tr>\n",
       "      <th>54</th>\n",
       "      <td>Gakuen Alice</td>\n",
       "      <td>Comedy, Fantasy</td>\n",
       "    </tr>\n",
       "    <tr>\n",
       "      <th>56</th>\n",
       "      <td>Mahou Shoujo Lyrical Nanoha</td>\n",
       "      <td>Action, Comedy, Drama</td>\n",
       "    </tr>\n",
       "    <tr>\n",
       "      <th>57</th>\n",
       "      <td>Mahou Shoujo Lyrical Nanoha A's</td>\n",
       "      <td>Action, Comedy, Drama</td>\n",
       "    </tr>\n",
       "    <tr>\n",
       "      <th>82</th>\n",
       "      <td>Akazukin Chacha</td>\n",
       "      <td>Adventure, Comedy, Fantasy, Romance</td>\n",
       "    </tr>\n",
       "  </tbody>\n",
       "</table>\n",
       "</div>"
      ],
      "text/plain": [
       "                               Name                               Genres\n",
       "14                    School Rumble                      Comedy, Romance\n",
       "54                     Gakuen Alice                      Comedy, Fantasy\n",
       "56      Mahou Shoujo Lyrical Nanoha                Action, Comedy, Drama\n",
       "57  Mahou Shoujo Lyrical Nanoha A's                Action, Comedy, Drama\n",
       "82                  Akazukin Chacha  Adventure, Comedy, Fantasy, Romance"
      ]
     },
     "execution_count": 27,
     "metadata": {},
     "output_type": "execute_result"
    }
   ],
   "source": [
    "# Get user preferences for the random user\n",
    "user_pref = get_user_preferences(random_user, plot=True, verbose=1)\n",
    "pd.DataFrame(user_pref).head(5)"
   ]
  },
  {
   "cell_type": "markdown",
   "id": "1c8ab263",
   "metadata": {
    "papermill": {
     "duration": 0.106274,
     "end_time": "2023-07-28T06:12:17.937994",
     "exception": false,
     "start_time": "2023-07-28T06:12:17.831720",
     "status": "completed"
    },
    "tags": []
   },
   "source": [
    "## Part 3: Recommending Animes for a User\n",
    "#### In the final part, we recommend animes to the selected user based on the preferences of similar users. The get_recommended_animes function iterates through the list of similar users, retrieves their preferences, and identifies animes that are not present in the preferences of the selected user. It then generates a list of recommended animes along with their genres and a brief synopsis. The output is a dataframe containing the recommended animes for the user."
   ]
  },
  {
   "cell_type": "code",
   "execution_count": 28,
   "id": "777e37c5",
   "metadata": {
    "execution": {
     "iopub.execute_input": "2023-07-28T06:12:18.150375Z",
     "iopub.status.busy": "2023-07-28T06:12:18.150000Z",
     "iopub.status.idle": "2023-07-28T06:12:18.163200Z",
     "shell.execute_reply": "2023-07-28T06:12:18.162196Z"
    },
    "papermill": {
     "duration": 0.122096,
     "end_time": "2023-07-28T06:12:18.165391",
     "exception": false,
     "start_time": "2023-07-28T06:12:18.043295",
     "status": "completed"
    },
    "tags": []
   },
   "outputs": [],
   "source": [
    "def get_recommended_animes(similar_users, user_pref, n=10):\n",
    "    recommended_animes = []\n",
    "    anime_list = []\n",
    "    \n",
    "    for user_id in similar_users.similar_users.values:\n",
    "        pref_list = get_user_preferences(int(user_id))\n",
    "        if not pref_list.empty:  # Check if user has watched any animes\n",
    "            pref_list = pref_list[~pref_list[\"Name\"].isin(user_pref[\"Name\"].values)]\n",
    "            anime_list.append(pref_list.Name.values)\n",
    "            \n",
    "    if len(anime_list) == 0:\n",
    "        print(\"No anime recommendations available for the given users.\")\n",
    "        return pd.DataFrame()\n",
    "    \n",
    "    anime_list = pd.DataFrame(anime_list)\n",
    "    sorted_list = pd.DataFrame(pd.Series(anime_list.values.ravel()).value_counts()).head(n)\n",
    "    # Count the occurrences of each anime in the entire dataset\n",
    "    anime_count = df['anime_id'].value_counts()\n",
    "    \n",
    "    for i, anime_name in enumerate(sorted_list.index):\n",
    "        if isinstance(anime_name, str):\n",
    "            try:\n",
    "                anime_id = df_anime[df_anime.Name == anime_name].anime_id.values[0]\n",
    "                english_name = df_anime[df_anime['Name'] == anime_name]['English name'].values[0]\n",
    "                name = english_name if english_name != \"UNKNOWN\" else anime_name\n",
    "                genre = df_anime[df_anime.Name == anime_name].Genres.values[0]\n",
    "                Synopsis = df_anime[df_anime.Name == anime_name].Synopsis.values[0]\n",
    "                n_user_pref = anime_count.get(anime_id, 0)  # Get the total count of users who have watched this anime\n",
    "                recommended_animes.append({\n",
    "                    \"n\": n_user_pref,\n",
    "                    \"anime_name\": anime_name, \n",
    "                    \"Genres\": genre, \n",
    "                    \"Synopsis\": Synopsis\n",
    "                })\n",
    "            except:\n",
    "                pass\n",
    "    return pd.DataFrame(recommended_animes)"
   ]
  },
  {
   "cell_type": "code",
   "execution_count": 29,
   "id": "84fa7a9b",
   "metadata": {
    "execution": {
     "iopub.execute_input": "2023-07-28T06:12:18.378980Z",
     "iopub.status.busy": "2023-07-28T06:12:18.378622Z",
     "iopub.status.idle": "2023-07-28T06:12:19.148725Z",
     "shell.execute_reply": "2023-07-28T06:12:19.147482Z"
    },
    "papermill": {
     "duration": 0.880472,
     "end_time": "2023-07-28T06:12:19.151661",
     "exception": false,
     "start_time": "2023-07-28T06:12:18.271189",
     "status": "completed"
    },
    "tags": []
   },
   "outputs": [
    {
     "name": "stdout",
     "output_type": "stream",
     "text": [
      "\n",
      "> Top recommendations for user: 113945\n"
     ]
    },
    {
     "data": {
      "text/html": [
       "<div>\n",
       "<style scoped>\n",
       "    .dataframe tbody tr th:only-of-type {\n",
       "        vertical-align: middle;\n",
       "    }\n",
       "\n",
       "    .dataframe tbody tr th {\n",
       "        vertical-align: top;\n",
       "    }\n",
       "\n",
       "    .dataframe thead th {\n",
       "        text-align: right;\n",
       "    }\n",
       "</style>\n",
       "<table border=\"1\" class=\"dataframe\">\n",
       "  <thead>\n",
       "    <tr style=\"text-align: right;\">\n",
       "      <th></th>\n",
       "      <th>n</th>\n",
       "      <th>anime_name</th>\n",
       "      <th>Genres</th>\n",
       "      <th>Synopsis</th>\n",
       "    </tr>\n",
       "  </thead>\n",
       "  <tbody>\n",
       "    <tr>\n",
       "      <th>0</th>\n",
       "      <td>20626</td>\n",
       "      <td>Monster</td>\n",
       "      <td>Drama, Mystery, Suspense</td>\n",
       "      <td>Dr. Kenzou Tenma, an elite neurosurgeon recently engaged to his hospital director's daughter, is well on his way to ascending the hospital hierarchy. That is until one night, a seemingly small event changes Dr. Tenma's life forever. While preparing to perform surgery on someone, he gets a call from the hospital director telling him to switch patients and instead perform life-saving brain surgery on a famous performer. His fellow doctors, fiancée, and the hospital director applaud his accomplishment; but because of the switch, a poor immigrant worker is dead, causing Dr. Tenma to have a crisis of conscience.\\n\\nSo when a similar situation arises, Dr. Tenma stands his ground and chooses to perform surgery on the young boy Johan Liebert instead of the town's mayor. Unfortunately, this choice leads to serious ramifications for Dr. Tenma—losing his social standing being one of them. However, with the mysterious death of the director and two other doctors, Dr. Tenma's position is restored. With no evidence to convict him, he is released and goes on to attain the position of hospital director. \\n\\nNine years later when Dr. Tenma saves the life of a criminal, his past comes back to haunt him—once again, he comes face to face with the monster he operated on. He must now embark on a quest of pursuit to make amends for the havoc spread by the one he saved.</td>\n",
       "    </tr>\n",
       "    <tr>\n",
       "      <th>1</th>\n",
       "      <td>10680</td>\n",
       "      <td>Little Witch Academia</td>\n",
       "      <td>Adventure, Comedy, Fantasy</td>\n",
       "      <td>For young witches everywhere, the world-renowned witch Shiny Chariot reigns as the most revered and celebrated role model. But as the girls age, so do their opinions of her—now just the mention of Chariot would get a witch labeled a child. However, undeterred in her blind admiration for Chariot, ordinary girl Atsuko Kagari enrolls into Luna Nova Magical Academy, hoping to someday become just as mesmerizing as her idol.\\n\\nHowever, the witch academy isn't all the fun and games Atsuko thought it would be: boring lectures, strict teachers, and students who mock Chariot plague the campus. Coupled with her own ineptness in magic, she's seen as little more than a rebel student. But when a chance finally presents itself to prove herself to her peers and teachers, she takes it, and now it's up to her to stop a rampaging dragon before it flattens the entire academy.</td>\n",
       "    </tr>\n",
       "    <tr>\n",
       "      <th>2</th>\n",
       "      <td>6048</td>\n",
       "      <td>Sidonia no Kishi</td>\n",
       "      <td>Action, Sci-Fi</td>\n",
       "      <td>After destroying Earth many years ago, the alien race Gauna has been pursuing the remnants of humanity—which, having narrowly escaped, fled across the galaxy in a number of giant seed ships. In the year 3394, Nagate Tanikaze surfaces from his lifelong seclusion deep beneath the seed ship Sidonia in search of food on the upper levels, only to find himself dragged into events unfolding without his knowledge.\\n\\nWhen the Gauna begin their assault on Sidonia, it's up to Tanikaze—with the help of his fellow soldiers and friends Shizuka Hoshijiro, Izana Shinatose, and Yuhata Midorikawa—to defend humanity's last hope for survival, and defeat their alien foes. Sidonia no Kishi follows Tanikaze as he discovers the world that has been above him his entire life, and becomes the hero Sidonia needs.</td>\n",
       "    </tr>\n",
       "    <tr>\n",
       "      <th>3</th>\n",
       "      <td>9463</td>\n",
       "      <td>D-Frag!</td>\n",
       "      <td>Comedy</td>\n",
       "      <td>The Kazama Family—a gang of three wannabe delinquents and close friends, spearheaded by Kenji Kazama, is trying to make a name for themselves at Fujou Academy. On the first day of the term, the gang finds themselves putting out a fire in the Game Development Club. Instead of thanking them, the eccentric club members attack and knock out Kenji's two friends, forcing Kenji to fight for his life. Failing to escape, the gang leader is coerced into joining the Game Development Club.\\n\\nAs he settles in, Kenji gets to know the four girls responsible for his provisional membership—student council president and general tyrant Chitose Karasuyama, spirited tomboy Sakura Mizukami, negligent club advisor Minami Oosawa, and the school's infamous shadow leader Roka Shibasaki. Throughout the Game Development Club's constant shenanigans and his desperate attempts to leave the club, Kenji begins to realize that he may be actually enjoying himself.</td>\n",
       "    </tr>\n",
       "    <tr>\n",
       "      <th>4</th>\n",
       "      <td>20700</td>\n",
       "      <td>Noragami</td>\n",
       "      <td>Action, Fantasy</td>\n",
       "      <td>In times of need, if you look in the right place, you just may see a strange telephone number scrawled in red. If you call this number, you will hear a young man introduce himself as the Yato God.\\n\\nYato is a minor deity and a self-proclaimed \"Delivery God,\" who dreams of having millions of worshippers. Without a single shrine dedicated to his name, however, his goals are far from being realized. He spends his days doing odd jobs for five yen apiece, until his weapon partner becomes fed up with her useless master and deserts him.\\n\\nJust as things seem to be looking grim for the god, his fortune changes when a middle school girl, Hiyori Iki, supposedly saves Yato from a car accident, taking the hit for him. Remarkably, she survives, but the event has caused her soul to become loose and hence able to leave her body. Hiyori demands that Yato return her to normal, but upon learning that he needs a new partner to do so, reluctantly agrees to help him find one. And with Hiyori's help, Yato's luck may finally be turning around.</td>\n",
       "    </tr>\n",
       "    <tr>\n",
       "      <th>5</th>\n",
       "      <td>3879</td>\n",
       "      <td>Noragami OVA</td>\n",
       "      <td>Comedy, Fantasy</td>\n",
       "      <td>Hiyori Iki is excited to start high school alongside her two middle school friends, but \"Delivery God\" Yato seems to have other plans for the day. Will Hiyori be able to make a good impression on her first day? Or will Yato cost her a happy high school life?\\n\\nOn another day, Hiyori decides to take advantage of the beautiful weather and invites a number of people to gaze at the cherry blossoms, including the fearsome combat god, Bishamon. But how long will their blissful day last when Yato and his old rival Bishamon start to drink together?</td>\n",
       "    </tr>\n",
       "    <tr>\n",
       "      <th>6</th>\n",
       "      <td>12257</td>\n",
       "      <td>Mahouka Koukou no Rettousei</td>\n",
       "      <td>Action, Fantasy, Romance, Sci-Fi</td>\n",
       "      <td>In the dawn of the 21st century, magic, long thought to be folklore and fairy tales, has become a systematized technology and is taught as a technical skill. In First High School, the institution for magicians, students are segregated into two groups based on their entrance exam scores: \"Blooms,\" those who receive high scores, are assigned to the First Course, while \"Weeds\" are reserve students assigned to the Second Course.\\n\\nMahouka Koukou no Rettousei follows the siblings, Tatsuya and Miyuki Shiba, who are enrolled in First High School. Upon taking the exam, the prodigious Miyuki is placed in the First Course, while Tatsuya is relegated to the Second Course. Though his practical test scores and status as a \"Weed\" show him to be magically inept, he possesses extraordinary technical knowledge, physical combat capabilities, and unique magic techniques—making Tatsuya the irregular at a magical high school.</td>\n",
       "    </tr>\n",
       "    <tr>\n",
       "      <th>7</th>\n",
       "      <td>9243</td>\n",
       "      <td>Hitsugi no Chaika</td>\n",
       "      <td>Action, Adventure, Fantasy, Romance</td>\n",
       "      <td>For 500 years, the Taboo Emperor, Arthur Gaz, ruled the Gaz Empire with an iron fist and conducted inhumane experiments on his own people. But his reign came to an end five years ago, when mighty warriors—later known as the Eight Heroes—defeated him in a battle for the capital. His death ended the 300-yearlong war between the Gaz Empire and the alliance of six nations.\\n\\nIn the present day, Tooru Acura is a former saboteur from the war who has difficulty settling into the peaceful world, as he cannot find a job where he can put his fighting skills to use. An opportunity appears before him, however, when he meets a white-haired Wizard named Chaika Trabant. With a coffin on her back, she is searching for the scattered remains of her father in order to give him a proper burial, and she hires Tooru and his adoptive sister Akari to help her. However, the six nations alliance, which have now formed the Council of Six Nations, dispatches Albéric Gillette and his men from the Kleeman Agency to pursue and apprehend the late Emperor Gaz's daughter—Chaika.\\n\\nWith the shocking revelation of Chaika's identity, the Acura siblings must choose between helping her gather the remains of the tyrannical emperor and upholding the peace the continent strives to maintain.</td>\n",
       "    </tr>\n",
       "    <tr>\n",
       "      <th>8</th>\n",
       "      <td>5442</td>\n",
       "      <td>Kuroshitsuji: Book of Circus</td>\n",
       "      <td>Action, Comedy, Mystery, Supernatural</td>\n",
       "      <td>Full of wonder and excitement, the Noah's Arc Circus troupe has captured audiences with their dazzling performances. Yet these fantastic acts do not come without a price. Children have mysteriously gone missing around London, correlating to that of the group's movements. Unsettled by these kidnappings, Queen Victoria sends in her notorious guard dog, Ciel Phantomhive; and his ever-faithful demon butler, Sebastian Michaelis, on an undercover mission to find these missing children.\\n\\nTrying to balance their new circus acts with their covert investigation under the big top, however, proves to be quite a challenge. With the other performers growing suspicious and the threat of the circus' mysterious benefactor looming overhead, what the two discover will shake Ciel to his very core.</td>\n",
       "    </tr>\n",
       "    <tr>\n",
       "      <th>9</th>\n",
       "      <td>18547</td>\n",
       "      <td>Fate/stay night: Unlimited Blade Works</td>\n",
       "      <td>Action, Fantasy, Supernatural</td>\n",
       "      <td>The Holy Grail War is a battle royale among seven magi who serve as Masters. Masters, through the use of the command seals they are given when they enter the war, command Heroic Spirits known as Servants to fight for them in battle. In the Fifth Holy Grail War, Rin Toosaka is among the magi entering the competition. With her Servant, Archer, she hopes to obtain the ultimate prize—the Holy Grail, a magical artifact capable of granting its wielder any wish.\\n \\nOne of Rin's classmates, Shirou Emiya, accidentally enters the competition and ends up commanding a Servant of his own known as Saber. As they find themselves facing mutual enemies, Rin and Shirou decide to form a temporary alliance as they challenge their opponents in the Holy Grail War.</td>\n",
       "    </tr>\n",
       "  </tbody>\n",
       "</table>\n",
       "</div>"
      ],
      "text/plain": [
       "       n                              anime_name   \n",
       "0  20626                                 Monster  \\\n",
       "1  10680                   Little Witch Academia   \n",
       "2   6048                        Sidonia no Kishi   \n",
       "3   9463                                 D-Frag!   \n",
       "4  20700                                Noragami   \n",
       "5   3879                            Noragami OVA   \n",
       "6  12257             Mahouka Koukou no Rettousei   \n",
       "7   9243                       Hitsugi no Chaika   \n",
       "8   5442            Kuroshitsuji: Book of Circus   \n",
       "9  18547  Fate/stay night: Unlimited Blade Works   \n",
       "\n",
       "                                  Genres   \n",
       "0               Drama, Mystery, Suspense  \\\n",
       "1             Adventure, Comedy, Fantasy   \n",
       "2                         Action, Sci-Fi   \n",
       "3                                 Comedy   \n",
       "4                        Action, Fantasy   \n",
       "5                        Comedy, Fantasy   \n",
       "6       Action, Fantasy, Romance, Sci-Fi   \n",
       "7    Action, Adventure, Fantasy, Romance   \n",
       "8  Action, Comedy, Mystery, Supernatural   \n",
       "9          Action, Fantasy, Supernatural   \n",
       "\n",
       "                                                                                                                                                                                                                                                                                                                                                                                                                                                                                                                                                                                                                                                                                                                                                                                                                                                                                                                                                                                                                                                                                                                                                                                                                                                                                                                                                                                                                  Synopsis  \n",
       "0  Dr. Kenzou Tenma, an elite neurosurgeon recently engaged to his hospital director's daughter, is well on his way to ascending the hospital hierarchy. That is until one night, a seemingly small event changes Dr. Tenma's life forever. While preparing to perform surgery on someone, he gets a call from the hospital director telling him to switch patients and instead perform life-saving brain surgery on a famous performer. His fellow doctors, fiancée, and the hospital director applaud his accomplishment; but because of the switch, a poor immigrant worker is dead, causing Dr. Tenma to have a crisis of conscience.\\n\\nSo when a similar situation arises, Dr. Tenma stands his ground and chooses to perform surgery on the young boy Johan Liebert instead of the town's mayor. Unfortunately, this choice leads to serious ramifications for Dr. Tenma—losing his social standing being one of them. However, with the mysterious death of the director and two other doctors, Dr. Tenma's position is restored. With no evidence to convict him, he is released and goes on to attain the position of hospital director. \\n\\nNine years later when Dr. Tenma saves the life of a criminal, his past comes back to haunt him—once again, he comes face to face with the monster he operated on. He must now embark on a quest of pursuit to make amends for the havoc spread by the one he saved.  \n",
       "1                                                                                                                                                                                                                                                                                                                                                                                                                                                                                                                    For young witches everywhere, the world-renowned witch Shiny Chariot reigns as the most revered and celebrated role model. But as the girls age, so do their opinions of her—now just the mention of Chariot would get a witch labeled a child. However, undeterred in her blind admiration for Chariot, ordinary girl Atsuko Kagari enrolls into Luna Nova Magical Academy, hoping to someday become just as mesmerizing as her idol.\\n\\nHowever, the witch academy isn't all the fun and games Atsuko thought it would be: boring lectures, strict teachers, and students who mock Chariot plague the campus. Coupled with her own ineptness in magic, she's seen as little more than a rebel student. But when a chance finally presents itself to prove herself to her peers and teachers, she takes it, and now it's up to her to stop a rampaging dragon before it flattens the entire academy.  \n",
       "2                                                                                                                                                                                                                                                                                                                                                                                                                                                                                                                                                                                            After destroying Earth many years ago, the alien race Gauna has been pursuing the remnants of humanity—which, having narrowly escaped, fled across the galaxy in a number of giant seed ships. In the year 3394, Nagate Tanikaze surfaces from his lifelong seclusion deep beneath the seed ship Sidonia in search of food on the upper levels, only to find himself dragged into events unfolding without his knowledge.\\n\\nWhen the Gauna begin their assault on Sidonia, it's up to Tanikaze—with the help of his fellow soldiers and friends Shizuka Hoshijiro, Izana Shinatose, and Yuhata Midorikawa—to defend humanity's last hope for survival, and defeat their alien foes. Sidonia no Kishi follows Tanikaze as he discovers the world that has been above him his entire life, and becomes the hero Sidonia needs.  \n",
       "3                                                                                                                                                                                                                                                                                                                                                                                                                                         The Kazama Family—a gang of three wannabe delinquents and close friends, spearheaded by Kenji Kazama, is trying to make a name for themselves at Fujou Academy. On the first day of the term, the gang finds themselves putting out a fire in the Game Development Club. Instead of thanking them, the eccentric club members attack and knock out Kenji's two friends, forcing Kenji to fight for his life. Failing to escape, the gang leader is coerced into joining the Game Development Club.\\n\\nAs he settles in, Kenji gets to know the four girls responsible for his provisional membership—student council president and general tyrant Chitose Karasuyama, spirited tomboy Sakura Mizukami, negligent club advisor Minami Oosawa, and the school's infamous shadow leader Roka Shibasaki. Throughout the Game Development Club's constant shenanigans and his desperate attempts to leave the club, Kenji begins to realize that he may be actually enjoying himself.  \n",
       "4                                                                                                                                                                                                                                                                                                                                           In times of need, if you look in the right place, you just may see a strange telephone number scrawled in red. If you call this number, you will hear a young man introduce himself as the Yato God.\\n\\nYato is a minor deity and a self-proclaimed \"Delivery God,\" who dreams of having millions of worshippers. Without a single shrine dedicated to his name, however, his goals are far from being realized. He spends his days doing odd jobs for five yen apiece, until his weapon partner becomes fed up with her useless master and deserts him.\\n\\nJust as things seem to be looking grim for the god, his fortune changes when a middle school girl, Hiyori Iki, supposedly saves Yato from a car accident, taking the hit for him. Remarkably, she survives, but the event has caused her soul to become loose and hence able to leave her body. Hiyori demands that Yato return her to normal, but upon learning that he needs a new partner to do so, reluctantly agrees to help him find one. And with Hiyori's help, Yato's luck may finally be turning around.  \n",
       "5                                                                                                                                                                                                                                                                                                                                                                                                                                                                                                                                                                                                                                                                                                                                                                                                                                                      Hiyori Iki is excited to start high school alongside her two middle school friends, but \"Delivery God\" Yato seems to have other plans for the day. Will Hiyori be able to make a good impression on her first day? Or will Yato cost her a happy high school life?\\n\\nOn another day, Hiyori decides to take advantage of the beautiful weather and invites a number of people to gaze at the cherry blossoms, including the fearsome combat god, Bishamon. But how long will their blissful day last when Yato and his old rival Bishamon start to drink together?  \n",
       "6                                                                                                                                                                                                                                                                                                                                                                                                                                                                  In the dawn of the 21st century, magic, long thought to be folklore and fairy tales, has become a systematized technology and is taught as a technical skill. In First High School, the institution for magicians, students are segregated into two groups based on their entrance exam scores: \"Blooms,\" those who receive high scores, are assigned to the First Course, while \"Weeds\" are reserve students assigned to the Second Course.\\n\\nMahouka Koukou no Rettousei follows the siblings, Tatsuya and Miyuki Shiba, who are enrolled in First High School. Upon taking the exam, the prodigious Miyuki is placed in the First Course, while Tatsuya is relegated to the Second Course. Though his practical test scores and status as a \"Weed\" show him to be magically inept, he possesses extraordinary technical knowledge, physical combat capabilities, and unique magic techniques—making Tatsuya the irregular at a magical high school.  \n",
       "7                                                                                                  For 500 years, the Taboo Emperor, Arthur Gaz, ruled the Gaz Empire with an iron fist and conducted inhumane experiments on his own people. But his reign came to an end five years ago, when mighty warriors—later known as the Eight Heroes—defeated him in a battle for the capital. His death ended the 300-yearlong war between the Gaz Empire and the alliance of six nations.\\n\\nIn the present day, Tooru Acura is a former saboteur from the war who has difficulty settling into the peaceful world, as he cannot find a job where he can put his fighting skills to use. An opportunity appears before him, however, when he meets a white-haired Wizard named Chaika Trabant. With a coffin on her back, she is searching for the scattered remains of her father in order to give him a proper burial, and she hires Tooru and his adoptive sister Akari to help her. However, the six nations alliance, which have now formed the Council of Six Nations, dispatches Albéric Gillette and his men from the Kleeman Agency to pursue and apprehend the late Emperor Gaz's daughter—Chaika.\\n\\nWith the shocking revelation of Chaika's identity, the Acura siblings must choose between helping her gather the remains of the tyrannical emperor and upholding the peace the continent strives to maintain.  \n",
       "8                                                                                                                                                                                                                                                                                                                                                                                                                                                                                                                                                                                                   Full of wonder and excitement, the Noah's Arc Circus troupe has captured audiences with their dazzling performances. Yet these fantastic acts do not come without a price. Children have mysteriously gone missing around London, correlating to that of the group's movements. Unsettled by these kidnappings, Queen Victoria sends in her notorious guard dog, Ciel Phantomhive; and his ever-faithful demon butler, Sebastian Michaelis, on an undercover mission to find these missing children.\\n\\nTrying to balance their new circus acts with their covert investigation under the big top, however, proves to be quite a challenge. With the other performers growing suspicious and the threat of the circus' mysterious benefactor looming overhead, what the two discover will shake Ciel to his very core.  \n",
       "9                                                                                                                                                                                                                                                                                                                                                                                                                                                                                                                                                                                                                                        The Holy Grail War is a battle royale among seven magi who serve as Masters. Masters, through the use of the command seals they are given when they enter the war, command Heroic Spirits known as Servants to fight for them in battle. In the Fifth Holy Grail War, Rin Toosaka is among the magi entering the competition. With her Servant, Archer, she hopes to obtain the ultimate prize—the Holy Grail, a magical artifact capable of granting its wielder any wish.\\n \\nOne of Rin's classmates, Shirou Emiya, accidentally enters the competition and ends up commanding a Servant of his own known as Saber. As they find themselves facing mutual enemies, Rin and Shirou decide to form a temporary alliance as they challenge their opponents in the Holy Grail War.  "
      ]
     },
     "execution_count": 29,
     "metadata": {},
     "output_type": "execute_result"
    }
   ],
   "source": [
    "# Get recommended animes for the random user\n",
    "recommended_animes = get_recommended_animes(similar_users, user_pref, n=10)\n",
    "\n",
    "print('\\n> Top recommendations for user: {}'.format(random_user))\n",
    "recommended_animes"
   ]
  },
  {
   "cell_type": "markdown",
   "id": "017e91fb",
   "metadata": {
    "papermill": {
     "duration": 0.106088,
     "end_time": "2023-07-28T06:12:19.364621",
     "exception": false,
     "start_time": "2023-07-28T06:12:19.258533",
     "status": "completed"
    },
    "tags": []
   },
   "source": [
    "# Model training (content-based filtering)"
   ]
  },
  {
   "cell_type": "code",
   "execution_count": 30,
   "id": "1d00a22d",
   "metadata": {
    "execution": {
     "iopub.execute_input": "2023-07-28T06:12:19.580946Z",
     "iopub.status.busy": "2023-07-28T06:12:19.579973Z",
     "iopub.status.idle": "2023-07-28T06:12:27.324804Z",
     "shell.execute_reply": "2023-07-28T06:12:27.323530Z"
    },
    "papermill": {
     "duration": 7.856176,
     "end_time": "2023-07-28T06:12:27.327823",
     "exception": false,
     "start_time": "2023-07-28T06:12:19.471647",
     "status": "completed"
    },
    "tags": []
   },
   "outputs": [],
   "source": [
    "# Create a TF-IDF vectorizer\n",
    "tfidf = TfidfVectorizer(stop_words='english')\n",
    "\n",
    "# Define a generator to compute TF-IDF matrix on the fly\n",
    "tfidf_matrix_generator = tfidf.fit_transform((genre for genre in df_anime['Genres'].values.astype('U')))\n",
    "\n",
    "# Compute cosine similarity matrix as a sparse matrix\n",
    "cosine_sim_sparse = linear_kernel(tfidf_matrix_generator, tfidf_matrix_generator)"
   ]
  },
  {
   "cell_type": "markdown",
   "id": "b7c7096a",
   "metadata": {
    "papermill": {
     "duration": 0.106849,
     "end_time": "2023-07-28T06:12:27.542275",
     "exception": false,
     "start_time": "2023-07-28T06:12:27.435426",
     "status": "completed"
    },
    "tags": []
   },
   "source": [
    "# 2: Content-Based Recommendation"
   ]
  },
  {
   "cell_type": "code",
   "execution_count": 31,
   "id": "b873dca3",
   "metadata": {
    "execution": {
     "iopub.execute_input": "2023-07-28T06:12:27.757545Z",
     "iopub.status.busy": "2023-07-28T06:12:27.757149Z",
     "iopub.status.idle": "2023-07-28T06:12:27.766756Z",
     "shell.execute_reply": "2023-07-28T06:12:27.765753Z"
    },
    "papermill": {
     "duration": 0.119557,
     "end_time": "2023-07-28T06:12:27.769044",
     "exception": false,
     "start_time": "2023-07-28T06:12:27.649487",
     "status": "completed"
    },
    "tags": []
   },
   "outputs": [],
   "source": [
    "# Function to get recommendations based on cosine similarity, genre, and ratings based on score\n",
    "def get_recommendations(title, cosine_sim, df):\n",
    "    idx = df_anime[df_anime['Name'] == title].index[0]\n",
    "\n",
    "    # Compute the similarity scores between the anime at the given index and all other animes\n",
    "    sim_scores = list(enumerate(cosine_sim[idx]))\n",
    "\n",
    "    # Filter out animes with unknown scores\n",
    "    valid_scores = [x for x in sim_scores if df_anime.iloc[x[0]]['Score'] != \"UNKNOWN\"]\n",
    "\n",
    "    # Sort the valid anime similarity scores based on the cosine similarity and ratings score in descending order\n",
    "    sorted_scores = sorted(valid_scores, key=lambda x: (x[1], df_anime.iloc[x[0]]['Score']), reverse=True)\n",
    "\n",
    "    # Get the top 10 similar animes (excluding the anime itself)\n",
    "    top_animes = [x for x in sorted_scores if x[0] != idx][:10]\n",
    "\n",
    "    # Extract the indices of the recommended animes\n",
    "    recommended_indices = [idx for idx, _ in top_animes]\n",
    "    recommended_animes = df_anime.iloc[recommended_indices][['Name', 'Genres', 'Score']]\n",
    "    return recommended_animes"
   ]
  },
  {
   "cell_type": "code",
   "execution_count": 32,
   "id": "53ec5c9f",
   "metadata": {
    "execution": {
     "iopub.execute_input": "2023-07-28T06:12:27.982982Z",
     "iopub.status.busy": "2023-07-28T06:12:27.982153Z",
     "iopub.status.idle": "2023-07-28T06:12:32.585163Z",
     "shell.execute_reply": "2023-07-28T06:12:32.584089Z"
    },
    "papermill": {
     "duration": 4.712133,
     "end_time": "2023-07-28T06:12:32.587327",
     "exception": false,
     "start_time": "2023-07-28T06:12:27.875194",
     "status": "completed"
    },
    "tags": []
   },
   "outputs": [
    {
     "name": "stdout",
     "output_type": "stream",
     "text": [
      "Recommendations for \"Kono Subarashii Sekai ni Shukufuku wo!\":\n"
     ]
    },
    {
     "data": {
      "text/html": [
       "<div>\n",
       "<style scoped>\n",
       "    .dataframe tbody tr th:only-of-type {\n",
       "        vertical-align: middle;\n",
       "    }\n",
       "\n",
       "    .dataframe tbody tr th {\n",
       "        vertical-align: top;\n",
       "    }\n",
       "\n",
       "    .dataframe thead th {\n",
       "        text-align: right;\n",
       "    }\n",
       "</style>\n",
       "<table border=\"1\" class=\"dataframe\">\n",
       "  <thead>\n",
       "    <tr style=\"text-align: right;\">\n",
       "      <th></th>\n",
       "      <th>Name</th>\n",
       "      <th>Genres</th>\n",
       "      <th>Score</th>\n",
       "    </tr>\n",
       "  </thead>\n",
       "  <tbody>\n",
       "    <tr>\n",
       "      <th>14578</th>\n",
       "      <td>Kono Subarashii Sekai ni Shukufuku wo! Movie: Kurenai Densetsu</td>\n",
       "      <td>Adventure, Comedy, Fantasy</td>\n",
       "      <td>8.45</td>\n",
       "    </tr>\n",
       "    <tr>\n",
       "      <th>11572</th>\n",
       "      <td>Kono Subarashii Sekai ni Shukufuku wo! 2</td>\n",
       "      <td>Adventure, Comedy, Fantasy</td>\n",
       "      <td>8.27</td>\n",
       "    </tr>\n",
       "    <tr>\n",
       "      <th>6241</th>\n",
       "      <td>Doraemon Movie 31: Shin Nobita to Tetsujin Heidan - Habatake Tenshi-tachi</td>\n",
       "      <td>Adventure, Comedy, Fantasy</td>\n",
       "      <td>8.14</td>\n",
       "    </tr>\n",
       "    <tr>\n",
       "      <th>12451</th>\n",
       "      <td>Kono Subarashii Sekai ni Shukufuku wo! 2: Kono Subarashii Geijutsu ni Shukufuku wo!</td>\n",
       "      <td>Adventure, Comedy, Fantasy</td>\n",
       "      <td>8.03</td>\n",
       "    </tr>\n",
       "    <tr>\n",
       "      <th>502</th>\n",
       "      <td>Slayers Next</td>\n",
       "      <td>Adventure, Comedy, Fantasy</td>\n",
       "      <td>8.02</td>\n",
       "    </tr>\n",
       "    <tr>\n",
       "      <th>1068</th>\n",
       "      <td>Slayers Try</td>\n",
       "      <td>Adventure, Comedy, Fantasy</td>\n",
       "      <td>7.81</td>\n",
       "    </tr>\n",
       "    <tr>\n",
       "      <th>11859</th>\n",
       "      <td>Little Witch Academia (TV)</td>\n",
       "      <td>Adventure, Comedy, Fantasy</td>\n",
       "      <td>7.81</td>\n",
       "    </tr>\n",
       "    <tr>\n",
       "      <th>12531</th>\n",
       "      <td>Mahoujin Guruguru (2017)</td>\n",
       "      <td>Adventure, Comedy, Fantasy</td>\n",
       "      <td>7.81</td>\n",
       "    </tr>\n",
       "    <tr>\n",
       "      <th>7105</th>\n",
       "      <td>Little Witch Academia</td>\n",
       "      <td>Adventure, Comedy, Fantasy</td>\n",
       "      <td>7.8</td>\n",
       "    </tr>\n",
       "    <tr>\n",
       "      <th>8061</th>\n",
       "      <td>Little Witch Academia: Mahoujikake no Parade</td>\n",
       "      <td>Adventure, Comedy, Fantasy</td>\n",
       "      <td>7.75</td>\n",
       "    </tr>\n",
       "  </tbody>\n",
       "</table>\n",
       "</div>"
      ],
      "text/plain": [
       "                                                                                      Name   \n",
       "14578                       Kono Subarashii Sekai ni Shukufuku wo! Movie: Kurenai Densetsu  \\\n",
       "11572                                             Kono Subarashii Sekai ni Shukufuku wo! 2   \n",
       "6241             Doraemon Movie 31: Shin Nobita to Tetsujin Heidan - Habatake Tenshi-tachi   \n",
       "12451  Kono Subarashii Sekai ni Shukufuku wo! 2: Kono Subarashii Geijutsu ni Shukufuku wo!   \n",
       "502                                                                           Slayers Next   \n",
       "1068                                                                           Slayers Try   \n",
       "11859                                                           Little Witch Academia (TV)   \n",
       "12531                                                             Mahoujin Guruguru (2017)   \n",
       "7105                                                                 Little Witch Academia   \n",
       "8061                                          Little Witch Academia: Mahoujikake no Parade   \n",
       "\n",
       "                           Genres Score  \n",
       "14578  Adventure, Comedy, Fantasy  8.45  \n",
       "11572  Adventure, Comedy, Fantasy  8.27  \n",
       "6241   Adventure, Comedy, Fantasy  8.14  \n",
       "12451  Adventure, Comedy, Fantasy  8.03  \n",
       "502    Adventure, Comedy, Fantasy  8.02  \n",
       "1068   Adventure, Comedy, Fantasy  7.81  \n",
       "11859  Adventure, Comedy, Fantasy  7.81  \n",
       "12531  Adventure, Comedy, Fantasy  7.81  \n",
       "7105   Adventure, Comedy, Fantasy   7.8  \n",
       "8061   Adventure, Comedy, Fantasy  7.75  "
      ]
     },
     "execution_count": 32,
     "metadata": {},
     "output_type": "execute_result"
    }
   ],
   "source": [
    "# Example usage: Get recommendations for an anime\n",
    "anime_title = 'Kono Subarashii Sekai ni Shukufuku wo!'\n",
    "recommendations = get_recommendations(anime_title, cosine_sim_sparse, df_anime)\n",
    "print(f'Recommendations for \"{anime_title}\":')\n",
    "recommendations"
   ]
  },
  {
   "cell_type": "code",
   "execution_count": 33,
   "id": "f76cad82",
   "metadata": {
    "execution": {
     "iopub.execute_input": "2023-07-28T06:12:32.806817Z",
     "iopub.status.busy": "2023-07-28T06:12:32.805912Z",
     "iopub.status.idle": "2023-07-28T06:12:37.516685Z",
     "shell.execute_reply": "2023-07-28T06:12:37.515404Z"
    },
    "papermill": {
     "duration": 4.823355,
     "end_time": "2023-07-28T06:12:37.518909",
     "exception": false,
     "start_time": "2023-07-28T06:12:32.695554",
     "status": "completed"
    },
    "tags": []
   },
   "outputs": [
    {
     "name": "stdout",
     "output_type": "stream",
     "text": [
      "Recommendations for \"One Piece\":\n"
     ]
    },
    {
     "data": {
      "text/html": [
       "<div>\n",
       "<style scoped>\n",
       "    .dataframe tbody tr th:only-of-type {\n",
       "        vertical-align: middle;\n",
       "    }\n",
       "\n",
       "    .dataframe tbody tr th {\n",
       "        vertical-align: top;\n",
       "    }\n",
       "\n",
       "    .dataframe thead th {\n",
       "        text-align: right;\n",
       "    }\n",
       "</style>\n",
       "<table border=\"1\" class=\"dataframe\">\n",
       "  <thead>\n",
       "    <tr style=\"text-align: right;\">\n",
       "      <th></th>\n",
       "      <th>Name</th>\n",
       "      <th>Genres</th>\n",
       "      <th>Score</th>\n",
       "    </tr>\n",
       "  </thead>\n",
       "  <tbody>\n",
       "    <tr>\n",
       "      <th>16617</th>\n",
       "      <td>Bleach: Sennen Kessen-hen</td>\n",
       "      <td>Action, Adventure, Fantasy</td>\n",
       "      <td>9.07</td>\n",
       "    </tr>\n",
       "    <tr>\n",
       "      <th>6456</th>\n",
       "      <td>Hunter x Hunter (2011)</td>\n",
       "      <td>Action, Adventure, Fantasy</td>\n",
       "      <td>9.04</td>\n",
       "    </tr>\n",
       "    <tr>\n",
       "      <th>115</th>\n",
       "      <td>Hunter x Hunter</td>\n",
       "      <td>Action, Adventure, Fantasy</td>\n",
       "      <td>8.41</td>\n",
       "    </tr>\n",
       "    <tr>\n",
       "      <th>116</th>\n",
       "      <td>Hunter x Hunter: Original Video Animation</td>\n",
       "      <td>Action, Adventure, Fantasy</td>\n",
       "      <td>8.31</td>\n",
       "    </tr>\n",
       "    <tr>\n",
       "      <th>1574</th>\n",
       "      <td>Naruto: Shippuuden</td>\n",
       "      <td>Action, Adventure, Fantasy</td>\n",
       "      <td>8.26</td>\n",
       "    </tr>\n",
       "    <tr>\n",
       "      <th>19600</th>\n",
       "      <td>Jigokuraku</td>\n",
       "      <td>Action, Adventure, Fantasy</td>\n",
       "      <td>8.26</td>\n",
       "    </tr>\n",
       "    <tr>\n",
       "      <th>118</th>\n",
       "      <td>Hunter x Hunter: Greed Island Final</td>\n",
       "      <td>Action, Adventure, Fantasy</td>\n",
       "      <td>8.25</td>\n",
       "    </tr>\n",
       "    <tr>\n",
       "      <th>23239</th>\n",
       "      <td>Dungeon ni Deai wo Motomeru no wa Machigatteiru Darou ka IV: Fuka Shou - Yakusai-hen</td>\n",
       "      <td>Action, Adventure, Fantasy</td>\n",
       "      <td>8.24</td>\n",
       "    </tr>\n",
       "    <tr>\n",
       "      <th>7799</th>\n",
       "      <td>Magi: The Kingdom of Magic</td>\n",
       "      <td>Action, Adventure, Fantasy</td>\n",
       "      <td>8.22</td>\n",
       "    </tr>\n",
       "    <tr>\n",
       "      <th>14699</th>\n",
       "      <td>One Piece Movie 14: Stampede</td>\n",
       "      <td>Action, Adventure, Fantasy</td>\n",
       "      <td>8.22</td>\n",
       "    </tr>\n",
       "  </tbody>\n",
       "</table>\n",
       "</div>"
      ],
      "text/plain": [
       "                                                                                       Name   \n",
       "16617                                                             Bleach: Sennen Kessen-hen  \\\n",
       "6456                                                                 Hunter x Hunter (2011)   \n",
       "115                                                                         Hunter x Hunter   \n",
       "116                                               Hunter x Hunter: Original Video Animation   \n",
       "1574                                                                     Naruto: Shippuuden   \n",
       "19600                                                                            Jigokuraku   \n",
       "118                                                     Hunter x Hunter: Greed Island Final   \n",
       "23239  Dungeon ni Deai wo Motomeru no wa Machigatteiru Darou ka IV: Fuka Shou - Yakusai-hen   \n",
       "7799                                                             Magi: The Kingdom of Magic   \n",
       "14699                                                          One Piece Movie 14: Stampede   \n",
       "\n",
       "                           Genres Score  \n",
       "16617  Action, Adventure, Fantasy  9.07  \n",
       "6456   Action, Adventure, Fantasy  9.04  \n",
       "115    Action, Adventure, Fantasy  8.41  \n",
       "116    Action, Adventure, Fantasy  8.31  \n",
       "1574   Action, Adventure, Fantasy  8.26  \n",
       "19600  Action, Adventure, Fantasy  8.26  \n",
       "118    Action, Adventure, Fantasy  8.25  \n",
       "23239  Action, Adventure, Fantasy  8.24  \n",
       "7799   Action, Adventure, Fantasy  8.22  \n",
       "14699  Action, Adventure, Fantasy  8.22  "
      ]
     },
     "execution_count": 33,
     "metadata": {},
     "output_type": "execute_result"
    }
   ],
   "source": [
    "anime_title = 'One Piece'\n",
    "recommendations = get_recommendations(anime_title, cosine_sim_sparse, df_anime)\n",
    "print(f'Recommendations for \"{anime_title}\":')\n",
    "recommendations"
   ]
  },
  {
   "cell_type": "code",
   "execution_count": null,
   "id": "6af1d072",
   "metadata": {
    "papermill": {
     "duration": 0.116104,
     "end_time": "2023-07-28T06:12:37.755881",
     "exception": false,
     "start_time": "2023-07-28T06:12:37.639777",
     "status": "completed"
    },
    "tags": []
   },
   "outputs": [],
   "source": []
  }
 ],
 "metadata": {
  "kernelspec": {
   "display_name": "Python 3",
   "language": "python",
   "name": "python3"
  },
  "language_info": {
   "codemirror_mode": {
    "name": "ipython",
    "version": 3
   },
   "file_extension": ".py",
   "mimetype": "text/x-python",
   "name": "python",
   "nbconvert_exporter": "python",
   "pygments_lexer": "ipython3",
   "version": "3.8.16"
  },
  "papermill": {
   "default_parameters": {},
   "duration": 227.675184,
   "end_time": "2023-07-28T06:12:41.680415",
   "environment_variables": {},
   "exception": null,
   "input_path": "__notebook__.ipynb",
   "output_path": "__notebook__.ipynb",
   "parameters": {},
   "start_time": "2023-07-28T06:08:54.005231",
   "version": "2.4.0"
  }
 },
 "nbformat": 4,
 "nbformat_minor": 5
}
